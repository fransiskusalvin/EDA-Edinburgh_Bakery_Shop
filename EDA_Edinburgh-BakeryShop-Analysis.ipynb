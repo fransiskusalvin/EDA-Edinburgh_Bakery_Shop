{
 "cells": [
  {
   "cell_type": "code",
   "execution_count": 1,
   "metadata": {},
   "outputs": [],
   "source": [
    "import numpy as np\n",
    "import pandas as pd\n",
    "import matplotlib.pyplot as plt\n",
    "import seaborn as sns\n",
    "import dateparser\n",
    "import warnings\n",
    "warnings.filterwarnings('ignore')"
   ]
  },
  {
   "cell_type": "markdown",
   "metadata": {},
   "source": [
    "# DEFINE PROBLEM"
   ]
  },
  {
   "cell_type": "markdown",
   "metadata": {},
   "source": [
    "- Dataset is taken from Bakery Cafe Shop Located in Edinburgh, Scotland\n",
    "- Available transaction data period: October 30th 2016 until April 9th 2017"
   ]
  },
  {
   "cell_type": "markdown",
   "metadata": {},
   "source": [
    "# DEFINE GOALS"
   ]
  },
  {
   "cell_type": "markdown",
   "metadata": {},
   "source": [
    "- Boost food and beverages sales through transaction data analysis\n",
    "- Reduce losses through stock optimization"
   ]
  },
  {
   "cell_type": "markdown",
   "metadata": {},
   "source": [
    "### IMPORT FILE"
   ]
  },
  {
   "cell_type": "code",
   "execution_count": 2,
   "metadata": {},
   "outputs": [],
   "source": [
    "df = pd.read_csv('bread basket.csv')"
   ]
  },
  {
   "cell_type": "markdown",
   "metadata": {},
   "source": [
    "### DATA TYPE OVERALL CHECK"
   ]
  },
  {
   "cell_type": "code",
   "execution_count": 3,
   "metadata": {},
   "outputs": [
    {
     "data": {
      "text/html": [
       "<div>\n",
       "<style scoped>\n",
       "    .dataframe tbody tr th:only-of-type {\n",
       "        vertical-align: middle;\n",
       "    }\n",
       "\n",
       "    .dataframe tbody tr th {\n",
       "        vertical-align: top;\n",
       "    }\n",
       "\n",
       "    .dataframe thead th {\n",
       "        text-align: right;\n",
       "    }\n",
       "</style>\n",
       "<table border=\"1\" class=\"dataframe\">\n",
       "  <thead>\n",
       "    <tr style=\"text-align: right;\">\n",
       "      <th></th>\n",
       "      <th>Transaction</th>\n",
       "      <th>Item</th>\n",
       "      <th>date_time</th>\n",
       "      <th>period_day</th>\n",
       "      <th>weekday_weekend</th>\n",
       "    </tr>\n",
       "  </thead>\n",
       "  <tbody>\n",
       "    <tr>\n",
       "      <th>0</th>\n",
       "      <td>1</td>\n",
       "      <td>Bread</td>\n",
       "      <td>30-10-2016 09:58</td>\n",
       "      <td>morning</td>\n",
       "      <td>weekend</td>\n",
       "    </tr>\n",
       "    <tr>\n",
       "      <th>1</th>\n",
       "      <td>2</td>\n",
       "      <td>Scandinavian</td>\n",
       "      <td>30-10-2016 10:05</td>\n",
       "      <td>morning</td>\n",
       "      <td>weekend</td>\n",
       "    </tr>\n",
       "    <tr>\n",
       "      <th>2</th>\n",
       "      <td>2</td>\n",
       "      <td>Scandinavian</td>\n",
       "      <td>30-10-2016 10:05</td>\n",
       "      <td>morning</td>\n",
       "      <td>weekend</td>\n",
       "    </tr>\n",
       "    <tr>\n",
       "      <th>3</th>\n",
       "      <td>3</td>\n",
       "      <td>Hot chocolate</td>\n",
       "      <td>30-10-2016 10:07</td>\n",
       "      <td>morning</td>\n",
       "      <td>weekend</td>\n",
       "    </tr>\n",
       "    <tr>\n",
       "      <th>4</th>\n",
       "      <td>3</td>\n",
       "      <td>Jam</td>\n",
       "      <td>30-10-2016 10:07</td>\n",
       "      <td>morning</td>\n",
       "      <td>weekend</td>\n",
       "    </tr>\n",
       "  </tbody>\n",
       "</table>\n",
       "</div>"
      ],
      "text/plain": [
       "   Transaction           Item         date_time period_day weekday_weekend\n",
       "0            1          Bread  30-10-2016 09:58    morning         weekend\n",
       "1            2   Scandinavian  30-10-2016 10:05    morning         weekend\n",
       "2            2   Scandinavian  30-10-2016 10:05    morning         weekend\n",
       "3            3  Hot chocolate  30-10-2016 10:07    morning         weekend\n",
       "4            3            Jam  30-10-2016 10:07    morning         weekend"
      ]
     },
     "execution_count": 3,
     "metadata": {},
     "output_type": "execute_result"
    }
   ],
   "source": [
    "df.head()"
   ]
  },
  {
   "cell_type": "code",
   "execution_count": 4,
   "metadata": {},
   "outputs": [
    {
     "name": "stdout",
     "output_type": "stream",
     "text": [
      "(20507, 5)\n"
     ]
    }
   ],
   "source": [
    "print(df.shape)"
   ]
  },
  {
   "cell_type": "code",
   "execution_count": 5,
   "metadata": {},
   "outputs": [
    {
     "name": "stdout",
     "output_type": "stream",
     "text": [
      "<class 'pandas.core.frame.DataFrame'>\n",
      "RangeIndex: 20507 entries, 0 to 20506\n",
      "Data columns (total 5 columns):\n",
      " #   Column           Non-Null Count  Dtype \n",
      "---  ------           --------------  ----- \n",
      " 0   Transaction      20507 non-null  int64 \n",
      " 1   Item             20507 non-null  object\n",
      " 2   date_time        20507 non-null  object\n",
      " 3   period_day       20507 non-null  object\n",
      " 4   weekday_weekend  20507 non-null  object\n",
      "dtypes: int64(1), object(4)\n",
      "memory usage: 801.2+ KB\n"
     ]
    }
   ],
   "source": [
    "df.info()"
   ]
  },
  {
   "cell_type": "code",
   "execution_count": 6,
   "metadata": {},
   "outputs": [],
   "source": [
    "## df.head(), df.shape, df.info() is utilized to capture dataset genereal information"
   ]
  },
  {
   "cell_type": "markdown",
   "metadata": {},
   "source": [
    "# DESCRIPTIVE ANALYSIS, HANDLING OUTLIERS, AND HANDLING MISSING VALUE"
   ]
  },
  {
   "cell_type": "markdown",
   "metadata": {},
   "source": [
    "### DESCRIPTIVE ANALYSIS"
   ]
  },
  {
   "cell_type": "code",
   "execution_count": 7,
   "metadata": {},
   "outputs": [
    {
     "data": {
      "text/html": [
       "<div>\n",
       "<style scoped>\n",
       "    .dataframe tbody tr th:only-of-type {\n",
       "        vertical-align: middle;\n",
       "    }\n",
       "\n",
       "    .dataframe tbody tr th {\n",
       "        vertical-align: top;\n",
       "    }\n",
       "\n",
       "    .dataframe thead th {\n",
       "        text-align: right;\n",
       "    }\n",
       "</style>\n",
       "<table border=\"1\" class=\"dataframe\">\n",
       "  <thead>\n",
       "    <tr style=\"text-align: right;\">\n",
       "      <th></th>\n",
       "      <th>Item</th>\n",
       "      <th>date_time</th>\n",
       "      <th>period_day</th>\n",
       "      <th>weekday_weekend</th>\n",
       "    </tr>\n",
       "  </thead>\n",
       "  <tbody>\n",
       "    <tr>\n",
       "      <th>count</th>\n",
       "      <td>20507</td>\n",
       "      <td>20507</td>\n",
       "      <td>20507</td>\n",
       "      <td>20507</td>\n",
       "    </tr>\n",
       "    <tr>\n",
       "      <th>unique</th>\n",
       "      <td>94</td>\n",
       "      <td>9182</td>\n",
       "      <td>4</td>\n",
       "      <td>2</td>\n",
       "    </tr>\n",
       "    <tr>\n",
       "      <th>top</th>\n",
       "      <td>Coffee</td>\n",
       "      <td>05-02-2017 11:58</td>\n",
       "      <td>afternoon</td>\n",
       "      <td>weekday</td>\n",
       "    </tr>\n",
       "    <tr>\n",
       "      <th>freq</th>\n",
       "      <td>5471</td>\n",
       "      <td>12</td>\n",
       "      <td>11569</td>\n",
       "      <td>12807</td>\n",
       "    </tr>\n",
       "  </tbody>\n",
       "</table>\n",
       "</div>"
      ],
      "text/plain": [
       "          Item         date_time period_day weekday_weekend\n",
       "count    20507             20507      20507           20507\n",
       "unique      94              9182          4               2\n",
       "top     Coffee  05-02-2017 11:58  afternoon         weekday\n",
       "freq      5471                12      11569           12807"
      ]
     },
     "execution_count": 7,
     "metadata": {},
     "output_type": "execute_result"
    }
   ],
   "source": [
    "df.describe(include='O')\n",
    "## To get general information of Categorical Statistic\n",
    "## From this table we know, there are 94 unique items\n",
    "## Top item sold in Edinburgh Bakery Shop is Coffee\n",
    "## There are 4 unique day period\n",
    "## Most transaction occurred on Afternoon Period\n",
    "## There are 2 unque weekday weekend \n",
    "## Most transaction occurred on weekday"
   ]
  },
  {
   "cell_type": "code",
   "execution_count": 8,
   "metadata": {},
   "outputs": [
    {
     "data": {
      "text/plain": [
       "array(['Bread', 'Scandinavian', 'Hot chocolate', 'Jam', 'Cookies',\n",
       "       'Muffin', 'Coffee', 'Pastry', 'Medialuna', 'Tea', 'Tartine',\n",
       "       'Basket', 'Mineral water', 'Farm House', 'Fudge', 'Juice',\n",
       "       \"Ella's Kitchen Pouches\", 'Victorian Sponge', 'Frittata',\n",
       "       'Hearty & Seasonal', 'Soup', 'Pick and Mix Bowls', 'Smoothies',\n",
       "       'Cake', 'Mighty Protein', 'Chicken sand', 'Coke',\n",
       "       'My-5 Fruit Shoot', 'Focaccia', 'Sandwich', 'Alfajores', 'Eggs',\n",
       "       'Brownie', 'Dulce de Leche', 'Honey', 'The BART', 'Granola',\n",
       "       'Fairy Doors', 'Empanadas', 'Keeping It Local', 'Art Tray',\n",
       "       'Bowl Nic Pitt', 'Bread Pudding', 'Adjustment', 'Truffles',\n",
       "       'Chimichurri Oil', 'Bacon', 'Spread', 'Kids biscuit', 'Siblings',\n",
       "       'Caramel bites', 'Jammie Dodgers', 'Tiffin', 'Olum & polenta',\n",
       "       'Polenta', 'The Nomad', 'Hack the stack', 'Bakewell',\n",
       "       'Lemon and coconut', 'Toast', 'Scone', 'Crepes', 'Vegan mincepie',\n",
       "       'Bare Popcorn', 'Muesli', 'Crisps', 'Pintxos', 'Gingerbread syrup',\n",
       "       'Panatone', 'Brioche and salami', 'Afternoon with the baker',\n",
       "       'Salad', 'Chicken Stew', 'Spanish Brunch',\n",
       "       'Raspberry shortbread sandwich', 'Extra Salami or Feta',\n",
       "       'Duck egg', 'Baguette', \"Valentine's card\", 'Tshirt',\n",
       "       'Vegan Feast', 'Postcard', 'Nomad bag', 'Chocolates',\n",
       "       'Coffee granules ', 'Drinking chocolate spoons ',\n",
       "       'Christmas common', 'Argentina Night', 'Half slice Monster ',\n",
       "       'Gift voucher', 'Cherry me Dried fruit', 'Mortimer', 'Raw bars',\n",
       "       'Tacos/Fajita'], dtype=object)"
      ]
     },
     "execution_count": 8,
     "metadata": {},
     "output_type": "execute_result"
    }
   ],
   "source": [
    "df['Item'].unique()\n",
    "# To Get Unique Item Sold in Edinburgh Bakery Shop"
   ]
  },
  {
   "cell_type": "code",
   "execution_count": 9,
   "metadata": {},
   "outputs": [
    {
     "data": {
      "text/plain": [
       "array(['morning', 'afternoon', 'evening', 'night'], dtype=object)"
      ]
     },
     "execution_count": 9,
     "metadata": {},
     "output_type": "execute_result"
    }
   ],
   "source": [
    "df['period_day'].unique()\n",
    "# To get Unique Period Day in Edinburgh"
   ]
  },
  {
   "cell_type": "code",
   "execution_count": 10,
   "metadata": {},
   "outputs": [
    {
     "data": {
      "text/plain": [
       "array(['weekend', 'weekday'], dtype=object)"
      ]
     },
     "execution_count": 10,
     "metadata": {},
     "output_type": "execute_result"
    }
   ],
   "source": [
    "df['weekday_weekend'].unique()\n",
    "# To get Unique WeekdayWeekend "
   ]
  },
  {
   "cell_type": "markdown",
   "metadata": {},
   "source": [
    "### MISSING VALUE CHECK & HANDLING"
   ]
  },
  {
   "cell_type": "code",
   "execution_count": 11,
   "metadata": {},
   "outputs": [
    {
     "data": {
      "text/plain": [
       "Transaction        0\n",
       "Item               0\n",
       "date_time          0\n",
       "period_day         0\n",
       "weekday_weekend    0\n",
       "dtype: int64"
      ]
     },
     "execution_count": 11,
     "metadata": {},
     "output_type": "execute_result"
    }
   ],
   "source": [
    "df.isna().sum()\n",
    "## From information below, dataset has no missing value. So, we don't need to drop or fill any value into dataset."
   ]
  },
  {
   "cell_type": "markdown",
   "metadata": {},
   "source": [
    "### OUTLIERS CHECK & HANDLING"
   ]
  },
  {
   "cell_type": "markdown",
   "metadata": {},
   "source": [
    "We don't do Outliers Check due there are no Numerical Table on dataframe"
   ]
  },
  {
   "cell_type": "markdown",
   "metadata": {},
   "source": [
    "### DATE AND TIME HANDLING"
   ]
  },
  {
   "cell_type": "code",
   "execution_count": 12,
   "metadata": {},
   "outputs": [
    {
     "data": {
      "text/plain": [
       "Transaction         int64\n",
       "Item               object\n",
       "date_time          object\n",
       "period_day         object\n",
       "weekday_weekend    object\n",
       "dtype: object"
      ]
     },
     "execution_count": 12,
     "metadata": {},
     "output_type": "execute_result"
    }
   ],
   "source": [
    "df.dtypes\n",
    "## Knowing current type data of Date & Time ==> Still in object type"
   ]
  },
  {
   "cell_type": "code",
   "execution_count": 13,
   "metadata": {},
   "outputs": [],
   "source": [
    "df['date_time'] = pd.to_datetime(df['date_time'], format='%d-%m-%Y %H:%M')\n",
    "## Change Date Tipe Type Data Into datetime64"
   ]
  },
  {
   "cell_type": "code",
   "execution_count": 14,
   "metadata": {},
   "outputs": [
    {
     "data": {
      "text/plain": [
       "Transaction                 int64\n",
       "Item                       object\n",
       "date_time          datetime64[ns]\n",
       "period_day                 object\n",
       "weekday_weekend            object\n",
       "dtype: object"
      ]
     },
     "execution_count": 14,
     "metadata": {},
     "output_type": "execute_result"
    }
   ],
   "source": [
    "df.dtypes\n",
    "## Date & Time Data Type have been changed"
   ]
  },
  {
   "cell_type": "code",
   "execution_count": 15,
   "metadata": {},
   "outputs": [
    {
     "data": {
      "text/plain": [
       "0       2016-10-30 09:58:00\n",
       "1       2016-10-30 10:05:00\n",
       "2       2016-10-30 10:05:00\n",
       "3       2016-10-30 10:07:00\n",
       "4       2016-10-30 10:07:00\n",
       "                ...        \n",
       "20502   2017-04-09 14:32:00\n",
       "20503   2017-04-09 14:32:00\n",
       "20504   2017-04-09 14:57:00\n",
       "20505   2017-04-09 14:57:00\n",
       "20506   2017-04-09 15:04:00\n",
       "Name: date_time, Length: 20507, dtype: datetime64[ns]"
      ]
     },
     "execution_count": 15,
     "metadata": {},
     "output_type": "execute_result"
    }
   ],
   "source": [
    "df['date_time']"
   ]
  },
  {
   "cell_type": "code",
   "execution_count": 16,
   "metadata": {},
   "outputs": [],
   "source": [
    "purchase_dt = df['date_time'].dt"
   ]
  },
  {
   "cell_type": "code",
   "execution_count": 17,
   "metadata": {},
   "outputs": [],
   "source": [
    "df['month'] = purchase_dt.month\n",
    "df['year'] = purchase_dt.year\n",
    "df['day'] = purchase_dt.day\n",
    "df['nameday'] = purchase_dt.day_name()\n",
    "df['hour'] = purchase_dt.hour\n",
    "df['yearmonth'] = purchase_dt.to_period('M')\n",
    "df['yearmonth'] = df['yearmonth'].astype(str)\n",
    "## Make Month & Day Name Column for further analysis"
   ]
  },
  {
   "cell_type": "code",
   "execution_count": 18,
   "metadata": {},
   "outputs": [],
   "source": [
    "hari = ['Monday', 'Tuesday', 'Wednesday', 'Thursday', 'Friday', 'Saturday', 'Sunday']\n",
    "df['nameday'] = pd.Categorical(df['nameday'], categories=hari, ordered=True)"
   ]
  },
  {
   "cell_type": "code",
   "execution_count": 19,
   "metadata": {},
   "outputs": [
    {
     "data": {
      "text/html": [
       "<div>\n",
       "<style scoped>\n",
       "    .dataframe tbody tr th:only-of-type {\n",
       "        vertical-align: middle;\n",
       "    }\n",
       "\n",
       "    .dataframe tbody tr th {\n",
       "        vertical-align: top;\n",
       "    }\n",
       "\n",
       "    .dataframe thead th {\n",
       "        text-align: right;\n",
       "    }\n",
       "</style>\n",
       "<table border=\"1\" class=\"dataframe\">\n",
       "  <thead>\n",
       "    <tr style=\"text-align: right;\">\n",
       "      <th></th>\n",
       "      <th>Transaction</th>\n",
       "      <th>Item</th>\n",
       "      <th>date_time</th>\n",
       "      <th>period_day</th>\n",
       "      <th>weekday_weekend</th>\n",
       "      <th>month</th>\n",
       "      <th>year</th>\n",
       "      <th>day</th>\n",
       "      <th>nameday</th>\n",
       "      <th>hour</th>\n",
       "      <th>yearmonth</th>\n",
       "    </tr>\n",
       "  </thead>\n",
       "  <tbody>\n",
       "    <tr>\n",
       "      <th>0</th>\n",
       "      <td>1</td>\n",
       "      <td>Bread</td>\n",
       "      <td>2016-10-30 09:58:00</td>\n",
       "      <td>morning</td>\n",
       "      <td>weekend</td>\n",
       "      <td>10</td>\n",
       "      <td>2016</td>\n",
       "      <td>30</td>\n",
       "      <td>Sunday</td>\n",
       "      <td>9</td>\n",
       "      <td>2016-10</td>\n",
       "    </tr>\n",
       "    <tr>\n",
       "      <th>1</th>\n",
       "      <td>2</td>\n",
       "      <td>Scandinavian</td>\n",
       "      <td>2016-10-30 10:05:00</td>\n",
       "      <td>morning</td>\n",
       "      <td>weekend</td>\n",
       "      <td>10</td>\n",
       "      <td>2016</td>\n",
       "      <td>30</td>\n",
       "      <td>Sunday</td>\n",
       "      <td>10</td>\n",
       "      <td>2016-10</td>\n",
       "    </tr>\n",
       "    <tr>\n",
       "      <th>2</th>\n",
       "      <td>2</td>\n",
       "      <td>Scandinavian</td>\n",
       "      <td>2016-10-30 10:05:00</td>\n",
       "      <td>morning</td>\n",
       "      <td>weekend</td>\n",
       "      <td>10</td>\n",
       "      <td>2016</td>\n",
       "      <td>30</td>\n",
       "      <td>Sunday</td>\n",
       "      <td>10</td>\n",
       "      <td>2016-10</td>\n",
       "    </tr>\n",
       "    <tr>\n",
       "      <th>3</th>\n",
       "      <td>3</td>\n",
       "      <td>Hot chocolate</td>\n",
       "      <td>2016-10-30 10:07:00</td>\n",
       "      <td>morning</td>\n",
       "      <td>weekend</td>\n",
       "      <td>10</td>\n",
       "      <td>2016</td>\n",
       "      <td>30</td>\n",
       "      <td>Sunday</td>\n",
       "      <td>10</td>\n",
       "      <td>2016-10</td>\n",
       "    </tr>\n",
       "    <tr>\n",
       "      <th>4</th>\n",
       "      <td>3</td>\n",
       "      <td>Jam</td>\n",
       "      <td>2016-10-30 10:07:00</td>\n",
       "      <td>morning</td>\n",
       "      <td>weekend</td>\n",
       "      <td>10</td>\n",
       "      <td>2016</td>\n",
       "      <td>30</td>\n",
       "      <td>Sunday</td>\n",
       "      <td>10</td>\n",
       "      <td>2016-10</td>\n",
       "    </tr>\n",
       "  </tbody>\n",
       "</table>\n",
       "</div>"
      ],
      "text/plain": [
       "   Transaction           Item           date_time period_day weekday_weekend  \\\n",
       "0            1          Bread 2016-10-30 09:58:00    morning         weekend   \n",
       "1            2   Scandinavian 2016-10-30 10:05:00    morning         weekend   \n",
       "2            2   Scandinavian 2016-10-30 10:05:00    morning         weekend   \n",
       "3            3  Hot chocolate 2016-10-30 10:07:00    morning         weekend   \n",
       "4            3            Jam 2016-10-30 10:07:00    morning         weekend   \n",
       "\n",
       "   month  year  day nameday  hour yearmonth  \n",
       "0     10  2016   30  Sunday     9   2016-10  \n",
       "1     10  2016   30  Sunday    10   2016-10  \n",
       "2     10  2016   30  Sunday    10   2016-10  \n",
       "3     10  2016   30  Sunday    10   2016-10  \n",
       "4     10  2016   30  Sunday    10   2016-10  "
      ]
     },
     "execution_count": 19,
     "metadata": {},
     "output_type": "execute_result"
    }
   ],
   "source": [
    "df.head()"
   ]
  },
  {
   "cell_type": "markdown",
   "metadata": {},
   "source": [
    "# EXPLORATORY DATA ANALYSIS & DATA VISUALIZATION"
   ]
  },
  {
   "cell_type": "code",
   "execution_count": 20,
   "metadata": {},
   "outputs": [],
   "source": [
    "##### Categorize Item \n",
    "other = [\"Jam\" , \"Afternoon with the baker\" , \"Art Tray\" , \"Extra Salami or Feta\" , \"Eggs\", \"Granola\",\"Tshirt\",\"My-5 Fruit Shoot\",\"Ella's Kitchen Pouches\",\n",
    "         \"Crisps\", \"Dulce de Leche\",\"Valentine's card\",\"Duck egg\",\"Pick and Mix Bowls\",\"Christmas common\",\"Mighty Protein\",\"Chocolates\",\n",
    "         \"Postcard\",\"Gingerbread syrup\",\"Drinking chocolate spoons\",\"Muesli\",\"Nomad bag\",\"Argentina Night\",\"Coffee granules\",\"Victorian Sponge\",\"Basket\",\n",
    "         \"Half slice Monster\" , \"Honey\" , \"Bare Popcorn\", \"Mortimer\", \"Cherry me Dried fruit\", \"Bowl Nic Pitt\" , \"Chimichurri Oil\",\"Fairy Doors\",\n",
    "         \"Hack the stack\", \"Siblings\", \"Spread\",\"Adjustment\",\"Gift voucher\",\"Polenta\",\"The BART\", \"Lemon and coconut\"]\n",
    "\n",
    "food_bakery = [\"Bread\",\"Cake\", \"Pastry\",\"Sandwich\",\"Medialuna\",\"Cookies\",\"Brownie\",\"Muffin\",\"Alfajores\",\"Scone\",\"Toast\",\"Scandinavian\",\"Fudge\",\"Baguette\",\"Tiffin\",\n",
    "               \"Jammie Dodgers\",\"The Nomad\",\"Focaccia\",\"Vegan mincepie\",\"Bakewell\",\"Tartine\",\"Panatone\",\"Bread Pudding\",\"Raspberry shortbread sandwich\",\"Plum & polenta\",\n",
    "               \"Raw bars\",\"Crepes\",\"Kids biscuit\",\"Caramel bites\", \"Truffles\", \"Empanadas\"]\n",
    "\n",
    "food_main_dishes = [\"Farm House\",\"Soup\",\"Spanish Brunch\",\"Chicken Stew\",\"Hearty & Seasonal\",\"Salad\",\"Frittata\",\"Keeping It Local\",\"Vegan Feast\",\"Pintxos\",\n",
    "                    \"Brioche and salami\",\"Bacon\",\"Chicken sand\", \"Tacos/Fajita\"]\n",
    "\n",
    "all_food = [\"Bread\",\"Cake\", \"Pastry\",\"Sandwich\",\"Medialuna\",\"Cookies\",\"Brownie\",\"Muffin\",\"Alfajores\",\"Scone\",\"Toast\",\"Scandinavian\",\"Fudge\",\"Baguette\",\"Tiffin\",\n",
    "            \"Jammie Dodgers\",\"The Nomad\",\"Focaccia\",\"Vegan mincepie\",\"Bakewell\",\"Tartine\",\"Panatone\",\"Bread Pudding\",\"Raspberry shortbread sandwich\",\"Plum & polenta\",\n",
    "            \"Raw bars\",\"Crepes\",\"Kids biscuit\",\"Caramel bites\", \"Truffles\", \"Empanadas\",\"Farm House\",\"Soup\",\"Spanish Brunch\",\"Chicken Stew\",\"Hearty & Seasonal\",\"Salad\",\"Frittata\",\"Keeping It Local\",\"Vegan Feast\",\"Pintxos\",\n",
    "                    \"Brioche and salami\",\"Bacon\",\"Chicken sand\", \"Tacos/Fajita\"]\n",
    "\n",
    "beverages = [\"Coffee\" , \"Tea\", \"Hot chocolate\",\"Juice\", \"Coke\", \"Mineral water\",\"Smoothies\"]"
   ]
  },
  {
   "cell_type": "code",
   "execution_count": 21,
   "metadata": {},
   "outputs": [],
   "source": [
    "kategori_raw = []\n",
    "for i in df['Item']:\n",
    "    if i in all_food:\n",
    "        kategori_raw.append('Food')\n",
    "    elif i in beverages :\n",
    "        kategori_raw.append('Beverages')\n",
    "    else:\n",
    "        kategori_raw.append('Others')\n",
    "\n",
    "df['item_category'] = kategori_raw"
   ]
  },
  {
   "cell_type": "code",
   "execution_count": 22,
   "metadata": {},
   "outputs": [],
   "source": [
    "bakery_raw = []\n",
    "for i in df['Item']:\n",
    "    if i in food_bakery:\n",
    "        bakery_raw.append('Bakery')\n",
    "    else:\n",
    "        bakery_raw.append('Non Bakery')\n",
    "\n",
    "df['bakery_category'] = bakery_raw"
   ]
  },
  {
   "cell_type": "markdown",
   "metadata": {},
   "source": [
    "### UNIVARIATE ANALYSIS"
   ]
  },
  {
   "cell_type": "code",
   "execution_count": 23,
   "metadata": {},
   "outputs": [
    {
     "data": {
      "text/html": [
       "<div>\n",
       "<style scoped>\n",
       "    .dataframe tbody tr th:only-of-type {\n",
       "        vertical-align: middle;\n",
       "    }\n",
       "\n",
       "    .dataframe tbody tr th {\n",
       "        vertical-align: top;\n",
       "    }\n",
       "\n",
       "    .dataframe thead th {\n",
       "        text-align: right;\n",
       "    }\n",
       "</style>\n",
       "<table border=\"1\" class=\"dataframe\">\n",
       "  <thead>\n",
       "    <tr style=\"text-align: right;\">\n",
       "      <th></th>\n",
       "      <th>Transaction</th>\n",
       "      <th>Item</th>\n",
       "      <th>date_time</th>\n",
       "      <th>period_day</th>\n",
       "      <th>weekday_weekend</th>\n",
       "      <th>month</th>\n",
       "      <th>year</th>\n",
       "      <th>day</th>\n",
       "      <th>nameday</th>\n",
       "      <th>hour</th>\n",
       "      <th>yearmonth</th>\n",
       "      <th>item_category</th>\n",
       "      <th>bakery_category</th>\n",
       "    </tr>\n",
       "  </thead>\n",
       "  <tbody>\n",
       "    <tr>\n",
       "      <th>0</th>\n",
       "      <td>1</td>\n",
       "      <td>Bread</td>\n",
       "      <td>2016-10-30 09:58:00</td>\n",
       "      <td>morning</td>\n",
       "      <td>weekend</td>\n",
       "      <td>10</td>\n",
       "      <td>2016</td>\n",
       "      <td>30</td>\n",
       "      <td>Sunday</td>\n",
       "      <td>9</td>\n",
       "      <td>2016-10</td>\n",
       "      <td>Food</td>\n",
       "      <td>Bakery</td>\n",
       "    </tr>\n",
       "    <tr>\n",
       "      <th>1</th>\n",
       "      <td>2</td>\n",
       "      <td>Scandinavian</td>\n",
       "      <td>2016-10-30 10:05:00</td>\n",
       "      <td>morning</td>\n",
       "      <td>weekend</td>\n",
       "      <td>10</td>\n",
       "      <td>2016</td>\n",
       "      <td>30</td>\n",
       "      <td>Sunday</td>\n",
       "      <td>10</td>\n",
       "      <td>2016-10</td>\n",
       "      <td>Food</td>\n",
       "      <td>Bakery</td>\n",
       "    </tr>\n",
       "    <tr>\n",
       "      <th>2</th>\n",
       "      <td>2</td>\n",
       "      <td>Scandinavian</td>\n",
       "      <td>2016-10-30 10:05:00</td>\n",
       "      <td>morning</td>\n",
       "      <td>weekend</td>\n",
       "      <td>10</td>\n",
       "      <td>2016</td>\n",
       "      <td>30</td>\n",
       "      <td>Sunday</td>\n",
       "      <td>10</td>\n",
       "      <td>2016-10</td>\n",
       "      <td>Food</td>\n",
       "      <td>Bakery</td>\n",
       "    </tr>\n",
       "    <tr>\n",
       "      <th>3</th>\n",
       "      <td>3</td>\n",
       "      <td>Hot chocolate</td>\n",
       "      <td>2016-10-30 10:07:00</td>\n",
       "      <td>morning</td>\n",
       "      <td>weekend</td>\n",
       "      <td>10</td>\n",
       "      <td>2016</td>\n",
       "      <td>30</td>\n",
       "      <td>Sunday</td>\n",
       "      <td>10</td>\n",
       "      <td>2016-10</td>\n",
       "      <td>Beverages</td>\n",
       "      <td>Non Bakery</td>\n",
       "    </tr>\n",
       "    <tr>\n",
       "      <th>4</th>\n",
       "      <td>3</td>\n",
       "      <td>Jam</td>\n",
       "      <td>2016-10-30 10:07:00</td>\n",
       "      <td>morning</td>\n",
       "      <td>weekend</td>\n",
       "      <td>10</td>\n",
       "      <td>2016</td>\n",
       "      <td>30</td>\n",
       "      <td>Sunday</td>\n",
       "      <td>10</td>\n",
       "      <td>2016-10</td>\n",
       "      <td>Others</td>\n",
       "      <td>Non Bakery</td>\n",
       "    </tr>\n",
       "  </tbody>\n",
       "</table>\n",
       "</div>"
      ],
      "text/plain": [
       "   Transaction           Item           date_time period_day weekday_weekend  \\\n",
       "0            1          Bread 2016-10-30 09:58:00    morning         weekend   \n",
       "1            2   Scandinavian 2016-10-30 10:05:00    morning         weekend   \n",
       "2            2   Scandinavian 2016-10-30 10:05:00    morning         weekend   \n",
       "3            3  Hot chocolate 2016-10-30 10:07:00    morning         weekend   \n",
       "4            3            Jam 2016-10-30 10:07:00    morning         weekend   \n",
       "\n",
       "   month  year  day nameday  hour yearmonth item_category bakery_category  \n",
       "0     10  2016   30  Sunday     9   2016-10          Food          Bakery  \n",
       "1     10  2016   30  Sunday    10   2016-10          Food          Bakery  \n",
       "2     10  2016   30  Sunday    10   2016-10          Food          Bakery  \n",
       "3     10  2016   30  Sunday    10   2016-10     Beverages      Non Bakery  \n",
       "4     10  2016   30  Sunday    10   2016-10        Others      Non Bakery  "
      ]
     },
     "execution_count": 23,
     "metadata": {},
     "output_type": "execute_result"
    }
   ],
   "source": [
    "df.head()"
   ]
  },
  {
   "cell_type": "code",
   "execution_count": 24,
   "metadata": {},
   "outputs": [],
   "source": [
    "## Compare Average 2 Months Sales in 2016 VS Average 2 Months Sales in 2017 (November, December, January, February)\n",
    "year_comp = [11, 12, 1, 2]\n",
    "df_yearly_comparison = df[df['month'].isin(year_comp)]"
   ]
  },
  {
   "cell_type": "code",
   "execution_count": 25,
   "metadata": {},
   "outputs": [
    {
     "data": {
      "text/html": [
       "<div>\n",
       "<style scoped>\n",
       "    .dataframe tbody tr th:only-of-type {\n",
       "        vertical-align: middle;\n",
       "    }\n",
       "\n",
       "    .dataframe tbody tr th {\n",
       "        vertical-align: top;\n",
       "    }\n",
       "\n",
       "    .dataframe thead th {\n",
       "        text-align: right;\n",
       "    }\n",
       "</style>\n",
       "<table border=\"1\" class=\"dataframe\">\n",
       "  <thead>\n",
       "    <tr style=\"text-align: right;\">\n",
       "      <th></th>\n",
       "      <th>year</th>\n",
       "      <th>sales</th>\n",
       "    </tr>\n",
       "  </thead>\n",
       "  <tbody>\n",
       "    <tr>\n",
       "      <th>0</th>\n",
       "      <td>2016</td>\n",
       "      <td>7775</td>\n",
       "    </tr>\n",
       "    <tr>\n",
       "      <th>1</th>\n",
       "      <td>2017</td>\n",
       "      <td>7262</td>\n",
       "    </tr>\n",
       "  </tbody>\n",
       "</table>\n",
       "</div>"
      ],
      "text/plain": [
       "   year  sales\n",
       "0  2016   7775\n",
       "1  2017   7262"
      ]
     },
     "execution_count": 25,
     "metadata": {},
     "output_type": "execute_result"
    }
   ],
   "source": [
    "df_yearsales_comp1 = df_yearly_comparison.pivot_table(index='year', values='period_day', aggfunc='count').reset_index()\n",
    "df_yearsales_comp1.rename(columns = {'period_day':'sales'}, inplace=True)\n",
    "df_yearsales_comp1"
   ]
  },
  {
   "cell_type": "code",
   "execution_count": 26,
   "metadata": {},
   "outputs": [
    {
     "data": {
      "image/png": "[encoded data removed]",
      "text/plain": [
       "<Figure size 800x640 with 1 Axes>"
      ]
     },
     "metadata": {
      "needs_background": "light"
     },
     "output_type": "display_data"
    }
   ],
   "source": [
    "plt.figure(figsize=(10,8), dpi=80)\n",
    "plt.bar(x=df_yearsales_comp1['year'], height = df_yearsales_comp1['sales'])\n",
    "plt.title('Total Sales 2016 vs 2017', size=20)\n",
    "plt.xlabel(\"Year\",size = 10)\n",
    "plt.ylabel(\"Sales\", size = 10)\n",
    "plt.xticks(np.arange(2016,2018,1))\n",
    "plt.show()"
   ]
  },
  {
   "cell_type": "markdown",
   "metadata": {},
   "source": [
    "##### Sales By Year\n",
    "Sales for 2 months in 2016 (November, December) are larger than Sales for 2 Months in 2017 (January, February)"
   ]
  },
  {
   "cell_type": "code",
   "execution_count": 27,
   "metadata": {},
   "outputs": [
    {
     "data": {
      "text/html": [
       "<div>\n",
       "<style scoped>\n",
       "    .dataframe tbody tr th:only-of-type {\n",
       "        vertical-align: middle;\n",
       "    }\n",
       "\n",
       "    .dataframe tbody tr th {\n",
       "        vertical-align: top;\n",
       "    }\n",
       "\n",
       "    .dataframe thead th {\n",
       "        text-align: right;\n",
       "    }\n",
       "</style>\n",
       "<table border=\"1\" class=\"dataframe\">\n",
       "  <thead>\n",
       "    <tr style=\"text-align: right;\">\n",
       "      <th></th>\n",
       "      <th>yearmonth</th>\n",
       "      <th>total_sales</th>\n",
       "    </tr>\n",
       "  </thead>\n",
       "  <tbody>\n",
       "    <tr>\n",
       "      <th>1</th>\n",
       "      <td>2016-11</td>\n",
       "      <td>4436</td>\n",
       "    </tr>\n",
       "    <tr>\n",
       "      <th>2</th>\n",
       "      <td>2016-12</td>\n",
       "      <td>3339</td>\n",
       "    </tr>\n",
       "    <tr>\n",
       "      <th>3</th>\n",
       "      <td>2017-01</td>\n",
       "      <td>3356</td>\n",
       "    </tr>\n",
       "    <tr>\n",
       "      <th>4</th>\n",
       "      <td>2017-02</td>\n",
       "      <td>3906</td>\n",
       "    </tr>\n",
       "    <tr>\n",
       "      <th>5</th>\n",
       "      <td>2017-03</td>\n",
       "      <td>3944</td>\n",
       "    </tr>\n",
       "  </tbody>\n",
       "</table>\n",
       "</div>"
      ],
      "text/plain": [
       "  yearmonth  total_sales\n",
       "1   2016-11         4436\n",
       "2   2016-12         3339\n",
       "3   2017-01         3356\n",
       "4   2017-02         3906\n",
       "5   2017-03         3944"
      ]
     },
     "execution_count": 27,
     "metadata": {},
     "output_type": "execute_result"
    }
   ],
   "source": [
    "df_monthly_salestotal = df.pivot_table(index='yearmonth', values='period_day', aggfunc='count').reset_index()\n",
    "df_monthly_salestotal.rename(columns = {'period_day':'total_sales'}, inplace=True)\n",
    "df_monthly_salestotal.drop(index=0, inplace=True)\n",
    "df_monthly_salestotal.drop(index=6, inplace=True)\n",
    "df_monthly_salestotal\n",
    "## To get Monthly Trend Sales (Oct 2016 & April 2017 is dropped due to incomplete date transaction record)"
   ]
  },
  {
   "cell_type": "code",
   "execution_count": 28,
   "metadata": {},
   "outputs": [
    {
     "data": {
      "image/png": "[encoded data removed]",
      "text/plain": [
       "<Figure size 1500x800 with 1 Axes>"
      ]
     },
     "metadata": {
      "needs_background": "light"
     },
     "output_type": "display_data"
    }
   ],
   "source": [
    "plt.figure(figsize=(15,8),dpi=100)\n",
    "plt.plot(df_monthly_salestotal['yearmonth'], df_monthly_salestotal['total_sales'], 'ro-', )\n",
    "plt.title(\"Edinburgh Bakery Shop Monthly Sales\", size=15)\n",
    "plt.xlabel(\"Year Month\")\n",
    "plt.ylabel(\"Sales\")\n",
    "plt.grid(True)\n",
    "plt.legend([\"All Item Sales\", \"Bakery Sales\", \"Food Non Bakery Sales\", \"Beverages Sales\"], loc=0)\n",
    "plt.savefig('MonthlySales.png')\n",
    "plt.show()\n",
    "# To show graphic monthly sales tren"
   ]
  },
  {
   "cell_type": "markdown",
   "metadata": {},
   "source": [
    "##### Sales By Month\n",
    "- Most transaction occurred on November 2016 \n",
    "- Least transaction occored on December 2016"
   ]
  },
  {
   "cell_type": "code",
   "execution_count": 29,
   "metadata": {},
   "outputs": [
    {
     "data": {
      "text/html": [
       "<div>\n",
       "<style scoped>\n",
       "    .dataframe tbody tr th:only-of-type {\n",
       "        vertical-align: middle;\n",
       "    }\n",
       "\n",
       "    .dataframe tbody tr th {\n",
       "        vertical-align: top;\n",
       "    }\n",
       "\n",
       "    .dataframe thead th {\n",
       "        text-align: right;\n",
       "    }\n",
       "</style>\n",
       "<table border=\"1\" class=\"dataframe\">\n",
       "  <thead>\n",
       "    <tr style=\"text-align: right;\">\n",
       "      <th></th>\n",
       "      <th>day</th>\n",
       "      <th>total_sales</th>\n",
       "    </tr>\n",
       "  </thead>\n",
       "  <tbody>\n",
       "    <tr>\n",
       "      <th>0</th>\n",
       "      <td>1</td>\n",
       "      <td>625</td>\n",
       "    </tr>\n",
       "    <tr>\n",
       "      <th>1</th>\n",
       "      <td>2</td>\n",
       "      <td>597</td>\n",
       "    </tr>\n",
       "    <tr>\n",
       "      <th>2</th>\n",
       "      <td>3</td>\n",
       "      <td>858</td>\n",
       "    </tr>\n",
       "    <tr>\n",
       "      <th>3</th>\n",
       "      <td>4</td>\n",
       "      <td>1048</td>\n",
       "    </tr>\n",
       "    <tr>\n",
       "      <th>4</th>\n",
       "      <td>5</td>\n",
       "      <td>924</td>\n",
       "    </tr>\n",
       "    <tr>\n",
       "      <th>5</th>\n",
       "      <td>6</td>\n",
       "      <td>739</td>\n",
       "    </tr>\n",
       "    <tr>\n",
       "      <th>6</th>\n",
       "      <td>7</td>\n",
       "      <td>741</td>\n",
       "    </tr>\n",
       "    <tr>\n",
       "      <th>7</th>\n",
       "      <td>8</td>\n",
       "      <td>700</td>\n",
       "    </tr>\n",
       "    <tr>\n",
       "      <th>8</th>\n",
       "      <td>9</td>\n",
       "      <td>596</td>\n",
       "    </tr>\n",
       "    <tr>\n",
       "      <th>9</th>\n",
       "      <td>10</td>\n",
       "      <td>672</td>\n",
       "    </tr>\n",
       "    <tr>\n",
       "      <th>10</th>\n",
       "      <td>11</td>\n",
       "      <td>748</td>\n",
       "    </tr>\n",
       "    <tr>\n",
       "      <th>11</th>\n",
       "      <td>12</td>\n",
       "      <td>643</td>\n",
       "    </tr>\n",
       "    <tr>\n",
       "      <th>12</th>\n",
       "      <td>13</td>\n",
       "      <td>617</td>\n",
       "    </tr>\n",
       "    <tr>\n",
       "      <th>13</th>\n",
       "      <td>14</td>\n",
       "      <td>649</td>\n",
       "    </tr>\n",
       "    <tr>\n",
       "      <th>14</th>\n",
       "      <td>15</td>\n",
       "      <td>520</td>\n",
       "    </tr>\n",
       "    <tr>\n",
       "      <th>15</th>\n",
       "      <td>16</td>\n",
       "      <td>567</td>\n",
       "    </tr>\n",
       "    <tr>\n",
       "      <th>16</th>\n",
       "      <td>17</td>\n",
       "      <td>667</td>\n",
       "    </tr>\n",
       "    <tr>\n",
       "      <th>17</th>\n",
       "      <td>18</td>\n",
       "      <td>745</td>\n",
       "    </tr>\n",
       "    <tr>\n",
       "      <th>18</th>\n",
       "      <td>19</td>\n",
       "      <td>785</td>\n",
       "    </tr>\n",
       "    <tr>\n",
       "      <th>19</th>\n",
       "      <td>20</td>\n",
       "      <td>609</td>\n",
       "    </tr>\n",
       "    <tr>\n",
       "      <th>20</th>\n",
       "      <td>21</td>\n",
       "      <td>592</td>\n",
       "    </tr>\n",
       "    <tr>\n",
       "      <th>21</th>\n",
       "      <td>22</td>\n",
       "      <td>586</td>\n",
       "    </tr>\n",
       "    <tr>\n",
       "      <th>22</th>\n",
       "      <td>23</td>\n",
       "      <td>561</td>\n",
       "    </tr>\n",
       "    <tr>\n",
       "      <th>23</th>\n",
       "      <td>24</td>\n",
       "      <td>666</td>\n",
       "    </tr>\n",
       "    <tr>\n",
       "      <th>24</th>\n",
       "      <td>25</td>\n",
       "      <td>611</td>\n",
       "    </tr>\n",
       "    <tr>\n",
       "      <th>25</th>\n",
       "      <td>26</td>\n",
       "      <td>634</td>\n",
       "    </tr>\n",
       "    <tr>\n",
       "      <th>26</th>\n",
       "      <td>27</td>\n",
       "      <td>520</td>\n",
       "    </tr>\n",
       "    <tr>\n",
       "      <th>27</th>\n",
       "      <td>28</td>\n",
       "      <td>657</td>\n",
       "    </tr>\n",
       "    <tr>\n",
       "      <th>28</th>\n",
       "      <td>29</td>\n",
       "      <td>488</td>\n",
       "    </tr>\n",
       "    <tr>\n",
       "      <th>29</th>\n",
       "      <td>30</td>\n",
       "      <td>574</td>\n",
       "    </tr>\n",
       "    <tr>\n",
       "      <th>30</th>\n",
       "      <td>31</td>\n",
       "      <td>568</td>\n",
       "    </tr>\n",
       "  </tbody>\n",
       "</table>\n",
       "</div>"
      ],
      "text/plain": [
       "    day  total_sales\n",
       "0     1          625\n",
       "1     2          597\n",
       "2     3          858\n",
       "3     4         1048\n",
       "4     5          924\n",
       "5     6          739\n",
       "6     7          741\n",
       "7     8          700\n",
       "8     9          596\n",
       "9    10          672\n",
       "10   11          748\n",
       "11   12          643\n",
       "12   13          617\n",
       "13   14          649\n",
       "14   15          520\n",
       "15   16          567\n",
       "16   17          667\n",
       "17   18          745\n",
       "18   19          785\n",
       "19   20          609\n",
       "20   21          592\n",
       "21   22          586\n",
       "22   23          561\n",
       "23   24          666\n",
       "24   25          611\n",
       "25   26          634\n",
       "26   27          520\n",
       "27   28          657\n",
       "28   29          488\n",
       "29   30          574\n",
       "30   31          568"
      ]
     },
     "execution_count": 29,
     "metadata": {},
     "output_type": "execute_result"
    }
   ],
   "source": [
    "df_daily_salestotal = df.pivot_table(index='day', values='period_day', aggfunc='count').reset_index()\n",
    "df_daily_salestotal.rename(columns = {'period_day':'total_sales'}, inplace=True)\n",
    "df_daily_salestotal\n",
    "# To get Daily Sales Transaction Sales"
   ]
  },
  {
   "cell_type": "code",
   "execution_count": 30,
   "metadata": {},
   "outputs": [
    {
     "data": {
      "image/png": "[encoded data removed]",
      "text/plain": [
       "<Figure size 1600x640 with 1 Axes>"
      ]
     },
     "metadata": {
      "needs_background": "light"
     },
     "output_type": "display_data"
    }
   ],
   "source": [
    "plt.figure(figsize=(20,8), dpi=80)\n",
    "sns.countplot(df['day'])\n",
    "plt.title('Day Total Sales', size=20)\n",
    "plt.xlabel(\"Day\",size = 10)\n",
    "plt.ylabel(\"Sales\", size = 10)\n",
    "plt.xticks(np.arange(0,32,1))\n",
    "plt.show()\n",
    "# To show daily tren transaction sales graphic"
   ]
  },
  {
   "cell_type": "markdown",
   "metadata": {},
   "source": [
    "##### Sales By Day\n",
    "- Most transaction occurred on the beginning of the month"
   ]
  },
  {
   "cell_type": "code",
   "execution_count": 31,
   "metadata": {},
   "outputs": [
    {
     "data": {
      "text/html": [
       "<div>\n",
       "<style scoped>\n",
       "    .dataframe tbody tr th:only-of-type {\n",
       "        vertical-align: middle;\n",
       "    }\n",
       "\n",
       "    .dataframe tbody tr th {\n",
       "        vertical-align: top;\n",
       "    }\n",
       "\n",
       "    .dataframe thead th {\n",
       "        text-align: right;\n",
       "    }\n",
       "</style>\n",
       "<table border=\"1\" class=\"dataframe\">\n",
       "  <thead>\n",
       "    <tr style=\"text-align: right;\">\n",
       "      <th></th>\n",
       "      <th>Transaction</th>\n",
       "      <th>Item</th>\n",
       "      <th>date_time</th>\n",
       "      <th>period_day</th>\n",
       "      <th>weekday_weekend</th>\n",
       "      <th>month</th>\n",
       "      <th>year</th>\n",
       "      <th>day</th>\n",
       "      <th>nameday</th>\n",
       "      <th>hour</th>\n",
       "      <th>yearmonth</th>\n",
       "      <th>item_category</th>\n",
       "      <th>bakery_category</th>\n",
       "    </tr>\n",
       "  </thead>\n",
       "  <tbody>\n",
       "    <tr>\n",
       "      <th>0</th>\n",
       "      <td>1</td>\n",
       "      <td>Bread</td>\n",
       "      <td>2016-10-30 09:58:00</td>\n",
       "      <td>morning</td>\n",
       "      <td>weekend</td>\n",
       "      <td>10</td>\n",
       "      <td>2016</td>\n",
       "      <td>30</td>\n",
       "      <td>Sunday</td>\n",
       "      <td>9</td>\n",
       "      <td>2016-10</td>\n",
       "      <td>Food</td>\n",
       "      <td>Bakery</td>\n",
       "    </tr>\n",
       "    <tr>\n",
       "      <th>1</th>\n",
       "      <td>2</td>\n",
       "      <td>Scandinavian</td>\n",
       "      <td>2016-10-30 10:05:00</td>\n",
       "      <td>morning</td>\n",
       "      <td>weekend</td>\n",
       "      <td>10</td>\n",
       "      <td>2016</td>\n",
       "      <td>30</td>\n",
       "      <td>Sunday</td>\n",
       "      <td>10</td>\n",
       "      <td>2016-10</td>\n",
       "      <td>Food</td>\n",
       "      <td>Bakery</td>\n",
       "    </tr>\n",
       "    <tr>\n",
       "      <th>2</th>\n",
       "      <td>2</td>\n",
       "      <td>Scandinavian</td>\n",
       "      <td>2016-10-30 10:05:00</td>\n",
       "      <td>morning</td>\n",
       "      <td>weekend</td>\n",
       "      <td>10</td>\n",
       "      <td>2016</td>\n",
       "      <td>30</td>\n",
       "      <td>Sunday</td>\n",
       "      <td>10</td>\n",
       "      <td>2016-10</td>\n",
       "      <td>Food</td>\n",
       "      <td>Bakery</td>\n",
       "    </tr>\n",
       "    <tr>\n",
       "      <th>3</th>\n",
       "      <td>3</td>\n",
       "      <td>Hot chocolate</td>\n",
       "      <td>2016-10-30 10:07:00</td>\n",
       "      <td>morning</td>\n",
       "      <td>weekend</td>\n",
       "      <td>10</td>\n",
       "      <td>2016</td>\n",
       "      <td>30</td>\n",
       "      <td>Sunday</td>\n",
       "      <td>10</td>\n",
       "      <td>2016-10</td>\n",
       "      <td>Beverages</td>\n",
       "      <td>Non Bakery</td>\n",
       "    </tr>\n",
       "    <tr>\n",
       "      <th>4</th>\n",
       "      <td>3</td>\n",
       "      <td>Jam</td>\n",
       "      <td>2016-10-30 10:07:00</td>\n",
       "      <td>morning</td>\n",
       "      <td>weekend</td>\n",
       "      <td>10</td>\n",
       "      <td>2016</td>\n",
       "      <td>30</td>\n",
       "      <td>Sunday</td>\n",
       "      <td>10</td>\n",
       "      <td>2016-10</td>\n",
       "      <td>Others</td>\n",
       "      <td>Non Bakery</td>\n",
       "    </tr>\n",
       "  </tbody>\n",
       "</table>\n",
       "</div>"
      ],
      "text/plain": [
       "   Transaction           Item           date_time period_day weekday_weekend  \\\n",
       "0            1          Bread 2016-10-30 09:58:00    morning         weekend   \n",
       "1            2   Scandinavian 2016-10-30 10:05:00    morning         weekend   \n",
       "2            2   Scandinavian 2016-10-30 10:05:00    morning         weekend   \n",
       "3            3  Hot chocolate 2016-10-30 10:07:00    morning         weekend   \n",
       "4            3            Jam 2016-10-30 10:07:00    morning         weekend   \n",
       "\n",
       "   month  year  day nameday  hour yearmonth item_category bakery_category  \n",
       "0     10  2016   30  Sunday     9   2016-10          Food          Bakery  \n",
       "1     10  2016   30  Sunday    10   2016-10          Food          Bakery  \n",
       "2     10  2016   30  Sunday    10   2016-10          Food          Bakery  \n",
       "3     10  2016   30  Sunday    10   2016-10     Beverages      Non Bakery  \n",
       "4     10  2016   30  Sunday    10   2016-10        Others      Non Bakery  "
      ]
     },
     "execution_count": 31,
     "metadata": {},
     "output_type": "execute_result"
    }
   ],
   "source": [
    "df.head()"
   ]
  },
  {
   "cell_type": "code",
   "execution_count": 32,
   "metadata": {},
   "outputs": [
    {
     "data": {
      "text/html": [
       "<div>\n",
       "<style scoped>\n",
       "    .dataframe tbody tr th:only-of-type {\n",
       "        vertical-align: middle;\n",
       "    }\n",
       "\n",
       "    .dataframe tbody tr th {\n",
       "        vertical-align: top;\n",
       "    }\n",
       "\n",
       "    .dataframe thead th {\n",
       "        text-align: right;\n",
       "    }\n",
       "</style>\n",
       "<table border=\"1\" class=\"dataframe\">\n",
       "  <thead>\n",
       "    <tr style=\"text-align: right;\">\n",
       "      <th></th>\n",
       "      <th>nameday</th>\n",
       "      <th>total_sales</th>\n",
       "    </tr>\n",
       "  </thead>\n",
       "  <tbody>\n",
       "    <tr>\n",
       "      <th>0</th>\n",
       "      <td>Monday</td>\n",
       "      <td>2324</td>\n",
       "    </tr>\n",
       "    <tr>\n",
       "      <th>1</th>\n",
       "      <td>Tuesday</td>\n",
       "      <td>2392</td>\n",
       "    </tr>\n",
       "    <tr>\n",
       "      <th>2</th>\n",
       "      <td>Wednesday</td>\n",
       "      <td>2321</td>\n",
       "    </tr>\n",
       "    <tr>\n",
       "      <th>3</th>\n",
       "      <td>Thursday</td>\n",
       "      <td>2646</td>\n",
       "    </tr>\n",
       "    <tr>\n",
       "      <th>4</th>\n",
       "      <td>Friday</td>\n",
       "      <td>3124</td>\n",
       "    </tr>\n",
       "    <tr>\n",
       "      <th>5</th>\n",
       "      <td>Saturday</td>\n",
       "      <td>4605</td>\n",
       "    </tr>\n",
       "    <tr>\n",
       "      <th>6</th>\n",
       "      <td>Sunday</td>\n",
       "      <td>3095</td>\n",
       "    </tr>\n",
       "  </tbody>\n",
       "</table>\n",
       "</div>"
      ],
      "text/plain": [
       "     nameday  total_sales\n",
       "0     Monday         2324\n",
       "1    Tuesday         2392\n",
       "2  Wednesday         2321\n",
       "3   Thursday         2646\n",
       "4     Friday         3124\n",
       "5   Saturday         4605\n",
       "6     Sunday         3095"
      ]
     },
     "execution_count": 32,
     "metadata": {},
     "output_type": "execute_result"
    }
   ],
   "source": [
    "df_daily_salestotal = df.pivot_table(index='nameday', values='period_day', aggfunc='count').reset_index()\n",
    "df_daily_salestotal.rename(columns = {'period_day':'total_sales'}, inplace=True)\n",
    "df_daily_salestotal\n",
    "# To get Sales Transaction Sales/nameday"
   ]
  },
  {
   "cell_type": "code",
   "execution_count": 33,
   "metadata": {},
   "outputs": [
    {
     "data": {
      "image/png": "[encoded data removed]",
      "text/plain": [
       "<Figure size 800x640 with 1 Axes>"
      ]
     },
     "metadata": {
      "needs_background": "light"
     },
     "output_type": "display_data"
    }
   ],
   "source": [
    "plt.figure(figsize=(10,8), dpi=80)\n",
    "sns.countplot(df['nameday'])\n",
    "plt.title('Day Total Sales', size=20)\n",
    "plt.xlabel(\"Day\",size = 10)\n",
    "plt.ylabel(\"Sales\", size = 10)\n",
    "plt.show()\n",
    "# To show tren transaction sales graphic by nameday"
   ]
  },
  {
   "cell_type": "markdown",
   "metadata": {},
   "source": [
    "##### Sales By Nameday\n",
    "- Most Transaction occurred on Saturday \n",
    "- Least Transaction occurred on Wednesday"
   ]
  },
  {
   "cell_type": "code",
   "execution_count": 34,
   "metadata": {},
   "outputs": [
    {
     "data": {
      "text/html": [
       "<div>\n",
       "<style scoped>\n",
       "    .dataframe tbody tr th:only-of-type {\n",
       "        vertical-align: middle;\n",
       "    }\n",
       "\n",
       "    .dataframe tbody tr th {\n",
       "        vertical-align: top;\n",
       "    }\n",
       "\n",
       "    .dataframe thead th {\n",
       "        text-align: right;\n",
       "    }\n",
       "</style>\n",
       "<table border=\"1\" class=\"dataframe\">\n",
       "  <thead>\n",
       "    <tr style=\"text-align: right;\">\n",
       "      <th></th>\n",
       "      <th>weekday_weekend</th>\n",
       "      <th>total_sales</th>\n",
       "    </tr>\n",
       "  </thead>\n",
       "  <tbody>\n",
       "    <tr>\n",
       "      <th>0</th>\n",
       "      <td>weekday</td>\n",
       "      <td>12807</td>\n",
       "    </tr>\n",
       "    <tr>\n",
       "      <th>1</th>\n",
       "      <td>weekend</td>\n",
       "      <td>7700</td>\n",
       "    </tr>\n",
       "  </tbody>\n",
       "</table>\n",
       "</div>"
      ],
      "text/plain": [
       "  weekday_weekend  total_sales\n",
       "0         weekday        12807\n",
       "1         weekend         7700"
      ]
     },
     "execution_count": 34,
     "metadata": {},
     "output_type": "execute_result"
    }
   ],
   "source": [
    "df_weekname_salestotal = df.pivot_table(index='weekday_weekend', values='period_day', aggfunc='count').reset_index()\n",
    "df_weekname_salestotal.rename(columns = {'period_day':'total_sales'}, inplace=True)\n",
    "df_weekname_salestotal\n",
    "# To get Sales Transaction by weekname"
   ]
  },
  {
   "cell_type": "code",
   "execution_count": 35,
   "metadata": {},
   "outputs": [
    {
     "data": {
      "image/png": "[encoded data removed]",
      "text/plain": [
       "<Figure size 800x640 with 1 Axes>"
      ]
     },
     "metadata": {
      "needs_background": "light"
     },
     "output_type": "display_data"
    }
   ],
   "source": [
    "plt.figure(figsize=(10,8), dpi=80)\n",
    "sns.countplot(df['weekday_weekend'])\n",
    "plt.title('Weekend/Weekday Sales', size=20)\n",
    "plt.xlabel(\"Week Name\",size = 10)\n",
    "plt.ylabel(\"Sales\", size = 10)\n",
    "plt.show()\n",
    "# To show tren transaction sales graphic by week name"
   ]
  },
  {
   "cell_type": "code",
   "execution_count": 36,
   "metadata": {},
   "outputs": [
    {
     "data": {
      "text/plain": [
       "2561.4"
      ]
     },
     "execution_count": 36,
     "metadata": {},
     "output_type": "execute_result"
    }
   ],
   "source": [
    "averages_weekdays_sales = (df_weekname_salestotal.loc[0]['total_sales'])/5\n",
    "averages_weekdays_sales"
   ]
  },
  {
   "cell_type": "code",
   "execution_count": 37,
   "metadata": {},
   "outputs": [
    {
     "data": {
      "text/plain": [
       "3850.0"
      ]
     },
     "execution_count": 37,
     "metadata": {},
     "output_type": "execute_result"
    }
   ],
   "source": [
    "averages_weekend_sales = (df_weekname_salestotal.loc[1]['total_sales'])/2\n",
    "averages_weekend_sales"
   ]
  },
  {
   "cell_type": "markdown",
   "metadata": {},
   "source": [
    "##### Sales By Weekname\n",
    "- Although from graphic, most transaction occourred on Weekday, when we divided with number of days, most transaction occurred on weekend"
   ]
  },
  {
   "cell_type": "code",
   "execution_count": 38,
   "metadata": {},
   "outputs": [],
   "source": [
    "period = ['morning', 'afternoon', 'evening', 'night']\n",
    "df['period_day'] = pd.Categorical(df['period_day'], categories=period, ordered=True)"
   ]
  },
  {
   "cell_type": "code",
   "execution_count": 39,
   "metadata": {},
   "outputs": [
    {
     "data": {
      "text/html": [
       "<div>\n",
       "<style scoped>\n",
       "    .dataframe tbody tr th:only-of-type {\n",
       "        vertical-align: middle;\n",
       "    }\n",
       "\n",
       "    .dataframe tbody tr th {\n",
       "        vertical-align: top;\n",
       "    }\n",
       "\n",
       "    .dataframe thead th {\n",
       "        text-align: right;\n",
       "    }\n",
       "</style>\n",
       "<table border=\"1\" class=\"dataframe\">\n",
       "  <thead>\n",
       "    <tr style=\"text-align: right;\">\n",
       "      <th></th>\n",
       "      <th>period_day</th>\n",
       "      <th>total_sales</th>\n",
       "    </tr>\n",
       "  </thead>\n",
       "  <tbody>\n",
       "    <tr>\n",
       "      <th>0</th>\n",
       "      <td>morning</td>\n",
       "      <td>8404</td>\n",
       "    </tr>\n",
       "    <tr>\n",
       "      <th>1</th>\n",
       "      <td>afternoon</td>\n",
       "      <td>11569</td>\n",
       "    </tr>\n",
       "    <tr>\n",
       "      <th>2</th>\n",
       "      <td>evening</td>\n",
       "      <td>520</td>\n",
       "    </tr>\n",
       "    <tr>\n",
       "      <th>3</th>\n",
       "      <td>night</td>\n",
       "      <td>14</td>\n",
       "    </tr>\n",
       "  </tbody>\n",
       "</table>\n",
       "</div>"
      ],
      "text/plain": [
       "  period_day  total_sales\n",
       "0    morning         8404\n",
       "1  afternoon        11569\n",
       "2    evening          520\n",
       "3      night           14"
      ]
     },
     "execution_count": 39,
     "metadata": {},
     "output_type": "execute_result"
    }
   ],
   "source": [
    "df_periodtime_sales = df.pivot_table(index='period_day', values='weekday_weekend', aggfunc='count').reset_index()\n",
    "df_periodtime_sales.rename(columns = {'weekday_weekend':'total_sales'}, inplace=True)\n",
    "df_periodtime_sales"
   ]
  },
  {
   "cell_type": "code",
   "execution_count": 40,
   "metadata": {},
   "outputs": [
    {
     "data": {
      "image/png": "[encoded data removed]",
      "text/plain": [
       "<Figure size 1000x800 with 1 Axes>"
      ]
     },
     "metadata": {
      "needs_background": "light"
     },
     "output_type": "display_data"
    }
   ],
   "source": [
    "plt.figure(figsize=(10,8),dpi=100)\n",
    "sns.countplot(df['period_day'])\n",
    "plt.title(\"Sales Breakdown By Time Period\",size=18)\n",
    "plt.xlabel('Name Day',size=18)\n",
    "plt.ylabel(\"Sales\",size=18)\n",
    "plt.show()"
   ]
  },
  {
   "cell_type": "markdown",
   "metadata": {},
   "source": [
    "##### Sales By Period Time\n",
    "- Most Tranasaction Occurred on Afternoon Period\n",
    "- Least Transaction Occured on Evening & Night Period\n",
    "- From research https://www.timeanddate.com/weather/uk/edinburgh/historic?month=4&year=2017 : the weather during this transaction period was on winter --> People tend to stay at home on evening and night"
   ]
  },
  {
   "cell_type": "code",
   "execution_count": 41,
   "metadata": {},
   "outputs": [
    {
     "data": {
      "text/html": [
       "<div>\n",
       "<style scoped>\n",
       "    .dataframe tbody tr th:only-of-type {\n",
       "        vertical-align: middle;\n",
       "    }\n",
       "\n",
       "    .dataframe tbody tr th {\n",
       "        vertical-align: top;\n",
       "    }\n",
       "\n",
       "    .dataframe thead th {\n",
       "        text-align: right;\n",
       "    }\n",
       "</style>\n",
       "<table border=\"1\" class=\"dataframe\">\n",
       "  <thead>\n",
       "    <tr style=\"text-align: right;\">\n",
       "      <th></th>\n",
       "      <th>item_category</th>\n",
       "      <th>sales</th>\n",
       "    </tr>\n",
       "  </thead>\n",
       "  <tbody>\n",
       "    <tr>\n",
       "      <th>0</th>\n",
       "      <td>Beverages</td>\n",
       "      <td>8263</td>\n",
       "    </tr>\n",
       "    <tr>\n",
       "      <th>1</th>\n",
       "      <td>Food</td>\n",
       "      <td>11649</td>\n",
       "    </tr>\n",
       "    <tr>\n",
       "      <th>2</th>\n",
       "      <td>Others</td>\n",
       "      <td>595</td>\n",
       "    </tr>\n",
       "  </tbody>\n",
       "</table>\n",
       "</div>"
      ],
      "text/plain": [
       "  item_category  sales\n",
       "0     Beverages   8263\n",
       "1          Food  11649\n",
       "2        Others    595"
      ]
     },
     "execution_count": 41,
     "metadata": {},
     "output_type": "execute_result"
    }
   ],
   "source": [
    "df_sales_itemcategory = df.pivot_table(index='item_category', values='period_day', aggfunc='count').reset_index()\n",
    "df_sales_itemcategory.rename(columns = {'period_day':'sales'}, inplace=True)\n",
    "df_sales_itemcategory \n",
    "# To get Sales Transaction by item category"
   ]
  },
  {
   "cell_type": "code",
   "execution_count": 42,
   "metadata": {},
   "outputs": [
    {
     "data": {
      "image/png": "[encoded data removed]",
      "text/plain": [
       "<Figure size 800x640 with 1 Axes>"
      ]
     },
     "metadata": {
      "needs_background": "light"
     },
     "output_type": "display_data"
    }
   ],
   "source": [
    "plt.figure(figsize=(10,8), dpi=80)\n",
    "sns.countplot(df['item_category'])\n",
    "plt.title('Total Sales By Item Category', size=20)\n",
    "plt.xlabel(\"Item Category\",size = 10)\n",
    "plt.ylabel(\"Sales\", size = 10)\n",
    "plt.show()\n",
    "# To show tren transaction sales graphic by Item Category"
   ]
  },
  {
   "cell_type": "code",
   "execution_count": null,
   "metadata": {},
   "outputs": [],
   "source": [
    "- Food is the top category item sold for all transaction in Edinburgh Bakeryshop\n",
    "- Beverages is the second top category item sold for all transaction in Edinburgh Bakeryshop"
   ]
  },
  {
   "cell_type": "code",
   "execution_count": 43,
   "metadata": {},
   "outputs": [
    {
     "data": {
      "text/html": [
       "<div>\n",
       "<style scoped>\n",
       "    .dataframe tbody tr th:only-of-type {\n",
       "        vertical-align: middle;\n",
       "    }\n",
       "\n",
       "    .dataframe tbody tr th {\n",
       "        vertical-align: top;\n",
       "    }\n",
       "\n",
       "    .dataframe thead th {\n",
       "        text-align: right;\n",
       "    }\n",
       "</style>\n",
       "<table border=\"1\" class=\"dataframe\">\n",
       "  <thead>\n",
       "    <tr style=\"text-align: right;\">\n",
       "      <th></th>\n",
       "      <th>bakery_category</th>\n",
       "      <th>sales</th>\n",
       "    </tr>\n",
       "  </thead>\n",
       "  <tbody>\n",
       "    <tr>\n",
       "      <th>0</th>\n",
       "      <td>Bakery</td>\n",
       "      <td>10250</td>\n",
       "    </tr>\n",
       "    <tr>\n",
       "      <th>1</th>\n",
       "      <td>Non Bakery</td>\n",
       "      <td>1399</td>\n",
       "    </tr>\n",
       "  </tbody>\n",
       "</table>\n",
       "</div>"
      ],
      "text/plain": [
       "  bakery_category  sales\n",
       "0          Bakery  10250\n",
       "1      Non Bakery   1399"
      ]
     },
     "execution_count": 43,
     "metadata": {},
     "output_type": "execute_result"
    }
   ],
   "source": [
    "df_sales_food = df[(df['item_category']=='Food')].pivot_table(index='bakery_category', values='period_day', aggfunc='count').reset_index()\n",
    "df_sales_food.rename(columns = {'period_day':'sales'}, inplace=True)\n",
    "df_sales_food "
   ]
  },
  {
   "cell_type": "code",
   "execution_count": 44,
   "metadata": {},
   "outputs": [
    {
     "data": {
      "image/png": "[encoded data removed]",
      "text/plain": [
       "<Figure size 720x576 with 1 Axes>"
      ]
     },
     "metadata": {},
     "output_type": "display_data"
    }
   ],
   "source": [
    "plt.figure(figsize=(10,8))\n",
    "plt.pie(df_sales_food['sales'], labels=df_sales_food['bakery_category'],\n",
    "       colors=['r', 'g'],\n",
    "       shadow=True, \n",
    "       textprops ={\n",
    "           'size' :15,\n",
    "           'color' : 'black'\n",
    "       },\n",
    "       autopct = '%1.2f%%',\n",
    "        explode=(0.05, 0.05) ## Supaya ada space => bagiannya harus sama kalau beda error\n",
    "       )\n",
    "plt.title('Sales By Food Bakery Category', size=20)\n",
    "plt.show()"
   ]
  },
  {
   "cell_type": "markdown",
   "metadata": {},
   "source": [
    "##### Sales By Food Bakery Non Bakery Category\n",
    "- Bakery category dominates food category sales in Edinburgh Bakery Store"
   ]
  },
  {
   "cell_type": "code",
   "execution_count": 45,
   "metadata": {},
   "outputs": [
    {
     "data": {
      "text/html": [
       "<div>\n",
       "<style scoped>\n",
       "    .dataframe tbody tr th:only-of-type {\n",
       "        vertical-align: middle;\n",
       "    }\n",
       "\n",
       "    .dataframe tbody tr th {\n",
       "        vertical-align: top;\n",
       "    }\n",
       "\n",
       "    .dataframe thead th {\n",
       "        text-align: right;\n",
       "    }\n",
       "</style>\n",
       "<table border=\"1\" class=\"dataframe\">\n",
       "  <thead>\n",
       "    <tr style=\"text-align: right;\">\n",
       "      <th></th>\n",
       "      <th>Item</th>\n",
       "      <th>period_day</th>\n",
       "    </tr>\n",
       "  </thead>\n",
       "  <tbody>\n",
       "    <tr>\n",
       "      <th>0</th>\n",
       "      <td>Coffee</td>\n",
       "      <td>5471</td>\n",
       "    </tr>\n",
       "    <tr>\n",
       "      <th>1</th>\n",
       "      <td>Bread</td>\n",
       "      <td>3325</td>\n",
       "    </tr>\n",
       "    <tr>\n",
       "      <th>2</th>\n",
       "      <td>Tea</td>\n",
       "      <td>1435</td>\n",
       "    </tr>\n",
       "    <tr>\n",
       "      <th>3</th>\n",
       "      <td>Cake</td>\n",
       "      <td>1025</td>\n",
       "    </tr>\n",
       "    <tr>\n",
       "      <th>4</th>\n",
       "      <td>Pastry</td>\n",
       "      <td>856</td>\n",
       "    </tr>\n",
       "    <tr>\n",
       "      <th>5</th>\n",
       "      <td>Sandwich</td>\n",
       "      <td>771</td>\n",
       "    </tr>\n",
       "    <tr>\n",
       "      <th>6</th>\n",
       "      <td>Medialuna</td>\n",
       "      <td>616</td>\n",
       "    </tr>\n",
       "    <tr>\n",
       "      <th>7</th>\n",
       "      <td>Hot chocolate</td>\n",
       "      <td>590</td>\n",
       "    </tr>\n",
       "    <tr>\n",
       "      <th>8</th>\n",
       "      <td>Cookies</td>\n",
       "      <td>540</td>\n",
       "    </tr>\n",
       "    <tr>\n",
       "      <th>9</th>\n",
       "      <td>Brownie</td>\n",
       "      <td>379</td>\n",
       "    </tr>\n",
       "  </tbody>\n",
       "</table>\n",
       "</div>"
      ],
      "text/plain": [
       "            Item  period_day\n",
       "0         Coffee        5471\n",
       "1          Bread        3325\n",
       "2            Tea        1435\n",
       "3           Cake        1025\n",
       "4         Pastry         856\n",
       "5       Sandwich         771\n",
       "6      Medialuna         616\n",
       "7  Hot chocolate         590\n",
       "8        Cookies         540\n",
       "9        Brownie         379"
      ]
     },
     "execution_count": 45,
     "metadata": {},
     "output_type": "execute_result"
    }
   ],
   "source": [
    "df_top_item = df.pivot_table(index='Item', values='period_day', aggfunc='count').sort_values('period_day', ascending=False).head(10).reset_index()\n",
    "df_top_item"
   ]
  },
  {
   "cell_type": "code",
   "execution_count": 46,
   "metadata": {},
   "outputs": [
    {
     "data": {
      "image/png": "[encoded data removed]",
      "text/plain": [
       "<Figure size 1500x500 with 1 Axes>"
      ]
     },
     "metadata": {
      "needs_background": "light"
     },
     "output_type": "display_data"
    }
   ],
   "source": [
    "plt.figure(figsize=(15,5),dpi=100)\n",
    "plt.bar(x=df_top_item['Item'], height=df_top_item['period_day'])\n",
    "plt.title(\"Top 10 Item Sales on Edinburgh Bakery Shop (All Transaction)\",size = 15)\n",
    "# plt.xlabel('Item', size=12)\n",
    "plt.ylabel(\"Sales\",size=12)\n",
    "plt.yticks(fontsize=13)\n",
    "plt.xticks(rotation=45,size=13)\n",
    "plt.show()"
   ]
  },
  {
   "cell_type": "code",
   "execution_count": 47,
   "metadata": {},
   "outputs": [
    {
     "data": {
      "text/html": [
       "<div>\n",
       "<style scoped>\n",
       "    .dataframe tbody tr th:only-of-type {\n",
       "        vertical-align: middle;\n",
       "    }\n",
       "\n",
       "    .dataframe tbody tr th {\n",
       "        vertical-align: top;\n",
       "    }\n",
       "\n",
       "    .dataframe thead th {\n",
       "        text-align: right;\n",
       "    }\n",
       "</style>\n",
       "<table border=\"1\" class=\"dataframe\">\n",
       "  <thead>\n",
       "    <tr style=\"text-align: right;\">\n",
       "      <th></th>\n",
       "      <th>Item</th>\n",
       "      <th>period_day</th>\n",
       "    </tr>\n",
       "  </thead>\n",
       "  <tbody>\n",
       "    <tr>\n",
       "      <th>0</th>\n",
       "      <td>Bowl Nic Pitt</td>\n",
       "      <td>2</td>\n",
       "    </tr>\n",
       "    <tr>\n",
       "      <th>1</th>\n",
       "      <td>Hack the stack</td>\n",
       "      <td>2</td>\n",
       "    </tr>\n",
       "    <tr>\n",
       "      <th>2</th>\n",
       "      <td>Bacon</td>\n",
       "      <td>1</td>\n",
       "    </tr>\n",
       "    <tr>\n",
       "      <th>3</th>\n",
       "      <td>Polenta</td>\n",
       "      <td>1</td>\n",
       "    </tr>\n",
       "    <tr>\n",
       "      <th>4</th>\n",
       "      <td>The BART</td>\n",
       "      <td>1</td>\n",
       "    </tr>\n",
       "    <tr>\n",
       "      <th>5</th>\n",
       "      <td>Chicken sand</td>\n",
       "      <td>1</td>\n",
       "    </tr>\n",
       "    <tr>\n",
       "      <th>6</th>\n",
       "      <td>Gift voucher</td>\n",
       "      <td>1</td>\n",
       "    </tr>\n",
       "    <tr>\n",
       "      <th>7</th>\n",
       "      <td>Olum &amp; polenta</td>\n",
       "      <td>1</td>\n",
       "    </tr>\n",
       "    <tr>\n",
       "      <th>8</th>\n",
       "      <td>Raw bars</td>\n",
       "      <td>1</td>\n",
       "    </tr>\n",
       "    <tr>\n",
       "      <th>9</th>\n",
       "      <td>Adjustment</td>\n",
       "      <td>1</td>\n",
       "    </tr>\n",
       "  </tbody>\n",
       "</table>\n",
       "</div>"
      ],
      "text/plain": [
       "             Item  period_day\n",
       "0   Bowl Nic Pitt           2\n",
       "1  Hack the stack           2\n",
       "2           Bacon           1\n",
       "3         Polenta           1\n",
       "4        The BART           1\n",
       "5    Chicken sand           1\n",
       "6    Gift voucher           1\n",
       "7  Olum & polenta           1\n",
       "8        Raw bars           1\n",
       "9      Adjustment           1"
      ]
     },
     "execution_count": 47,
     "metadata": {},
     "output_type": "execute_result"
    }
   ],
   "source": [
    "#### Bottom Item All Sales\n",
    "df_bottom_item = df.pivot_table(index='Item', values='period_day', aggfunc='count').sort_values('period_day', ascending=False).tail(10).reset_index()\n",
    "df_bottom_item"
   ]
  },
  {
   "cell_type": "markdown",
   "metadata": {},
   "source": [
    "- Coffee is the top item sold in Edinburgh Bakery Shop"
   ]
  },
  {
   "cell_type": "markdown",
   "metadata": {},
   "source": [
    "##### Sales Breakdown By Food Bakery, Food Non_Bakery, and Beverages (Top & Bottom)"
   ]
  },
  {
   "cell_type": "code",
   "execution_count": 48,
   "metadata": {},
   "outputs": [
    {
     "data": {
      "text/html": [
       "<div>\n",
       "<style scoped>\n",
       "    .dataframe tbody tr th:only-of-type {\n",
       "        vertical-align: middle;\n",
       "    }\n",
       "\n",
       "    .dataframe tbody tr th {\n",
       "        vertical-align: top;\n",
       "    }\n",
       "\n",
       "    .dataframe thead th {\n",
       "        text-align: right;\n",
       "    }\n",
       "</style>\n",
       "<table border=\"1\" class=\"dataframe\">\n",
       "  <thead>\n",
       "    <tr style=\"text-align: right;\">\n",
       "      <th></th>\n",
       "      <th>Item</th>\n",
       "      <th>period_day</th>\n",
       "    </tr>\n",
       "  </thead>\n",
       "  <tbody>\n",
       "    <tr>\n",
       "      <th>0</th>\n",
       "      <td>Coffee</td>\n",
       "      <td>5471</td>\n",
       "    </tr>\n",
       "    <tr>\n",
       "      <th>1</th>\n",
       "      <td>Tea</td>\n",
       "      <td>1435</td>\n",
       "    </tr>\n",
       "    <tr>\n",
       "      <th>2</th>\n",
       "      <td>Hot chocolate</td>\n",
       "      <td>590</td>\n",
       "    </tr>\n",
       "    <tr>\n",
       "      <th>3</th>\n",
       "      <td>Juice</td>\n",
       "      <td>369</td>\n",
       "    </tr>\n",
       "    <tr>\n",
       "      <th>4</th>\n",
       "      <td>Coke</td>\n",
       "      <td>185</td>\n",
       "    </tr>\n",
       "    <tr>\n",
       "      <th>5</th>\n",
       "      <td>Mineral water</td>\n",
       "      <td>136</td>\n",
       "    </tr>\n",
       "    <tr>\n",
       "      <th>6</th>\n",
       "      <td>Smoothies</td>\n",
       "      <td>77</td>\n",
       "    </tr>\n",
       "  </tbody>\n",
       "</table>\n",
       "</div>"
      ],
      "text/plain": [
       "            Item  period_day\n",
       "0         Coffee        5471\n",
       "1            Tea        1435\n",
       "2  Hot chocolate         590\n",
       "3          Juice         369\n",
       "4           Coke         185\n",
       "5  Mineral water         136\n",
       "6      Smoothies          77"
      ]
     },
     "execution_count": 48,
     "metadata": {},
     "output_type": "execute_result"
    }
   ],
   "source": [
    "#### SALES CATEGORY BY BEVERAGES\n",
    "df_beverage = df[df['item_category'] == 'Beverages'].pivot_table(index='Item', values='period_day', aggfunc='count').sort_values('period_day', ascending = False).reset_index()\n",
    "df_beverage.to_excel('beverages.xlsx', index=False)\n",
    "df_beverage"
   ]
  },
  {
   "cell_type": "code",
   "execution_count": 49,
   "metadata": {},
   "outputs": [
    {
     "data": {
      "image/png": "[encoded data removed]",
      "text/plain": [
       "<Figure size 720x360 with 1 Axes>"
      ]
     },
     "metadata": {
      "needs_background": "light"
     },
     "output_type": "display_data"
    }
   ],
   "source": [
    "plt.figure(figsize=(10,5))\n",
    "plt.bar(x=df_beverage['Item'], height=df_beverage['period_day'])\n",
    "plt.title(\"Beverages Sales on Edinburgh Bakery Shop (All Transaction)\",size = 18)\n",
    "# plt.xlabel('Item', size=12)\n",
    "plt.ylabel(\"Sales\",size=12)\n",
    "plt.yticks(fontsize=15)\n",
    "plt.xticks(rotation=45,size=15)\n",
    "plt.show()"
   ]
  },
  {
   "cell_type": "markdown",
   "metadata": {},
   "source": [
    "- In Beverages Category, Coffee also is the top item sold in Edinburgh Bakery"
   ]
  },
  {
   "cell_type": "code",
   "execution_count": 50,
   "metadata": {},
   "outputs": [
    {
     "data": {
      "text/html": [
       "<div>\n",
       "<style scoped>\n",
       "    .dataframe tbody tr th:only-of-type {\n",
       "        vertical-align: middle;\n",
       "    }\n",
       "\n",
       "    .dataframe tbody tr th {\n",
       "        vertical-align: top;\n",
       "    }\n",
       "\n",
       "    .dataframe thead th {\n",
       "        text-align: right;\n",
       "    }\n",
       "</style>\n",
       "<table border=\"1\" class=\"dataframe\">\n",
       "  <thead>\n",
       "    <tr style=\"text-align: right;\">\n",
       "      <th></th>\n",
       "      <th>Item</th>\n",
       "      <th>period_day</th>\n",
       "    </tr>\n",
       "  </thead>\n",
       "  <tbody>\n",
       "    <tr>\n",
       "      <th>0</th>\n",
       "      <td>Bread</td>\n",
       "      <td>3325</td>\n",
       "    </tr>\n",
       "    <tr>\n",
       "      <th>1</th>\n",
       "      <td>Cake</td>\n",
       "      <td>1025</td>\n",
       "    </tr>\n",
       "    <tr>\n",
       "      <th>2</th>\n",
       "      <td>Pastry</td>\n",
       "      <td>856</td>\n",
       "    </tr>\n",
       "    <tr>\n",
       "      <th>3</th>\n",
       "      <td>Sandwich</td>\n",
       "      <td>771</td>\n",
       "    </tr>\n",
       "    <tr>\n",
       "      <th>4</th>\n",
       "      <td>Medialuna</td>\n",
       "      <td>616</td>\n",
       "    </tr>\n",
       "    <tr>\n",
       "      <th>5</th>\n",
       "      <td>Cookies</td>\n",
       "      <td>540</td>\n",
       "    </tr>\n",
       "    <tr>\n",
       "      <th>6</th>\n",
       "      <td>Brownie</td>\n",
       "      <td>379</td>\n",
       "    </tr>\n",
       "    <tr>\n",
       "      <th>7</th>\n",
       "      <td>Farm House</td>\n",
       "      <td>374</td>\n",
       "    </tr>\n",
       "    <tr>\n",
       "      <th>8</th>\n",
       "      <td>Muffin</td>\n",
       "      <td>370</td>\n",
       "    </tr>\n",
       "    <tr>\n",
       "      <th>9</th>\n",
       "      <td>Alfajores</td>\n",
       "      <td>369</td>\n",
       "    </tr>\n",
       "    <tr>\n",
       "      <th>10</th>\n",
       "      <td>Soup</td>\n",
       "      <td>342</td>\n",
       "    </tr>\n",
       "    <tr>\n",
       "      <th>11</th>\n",
       "      <td>Scone</td>\n",
       "      <td>327</td>\n",
       "    </tr>\n",
       "    <tr>\n",
       "      <th>12</th>\n",
       "      <td>Toast</td>\n",
       "      <td>318</td>\n",
       "    </tr>\n",
       "    <tr>\n",
       "      <th>13</th>\n",
       "      <td>Scandinavian</td>\n",
       "      <td>277</td>\n",
       "    </tr>\n",
       "    <tr>\n",
       "      <th>14</th>\n",
       "      <td>Truffles</td>\n",
       "      <td>193</td>\n",
       "    </tr>\n",
       "    <tr>\n",
       "      <th>15</th>\n",
       "      <td>Spanish Brunch</td>\n",
       "      <td>172</td>\n",
       "    </tr>\n",
       "    <tr>\n",
       "      <th>16</th>\n",
       "      <td>Fudge</td>\n",
       "      <td>159</td>\n",
       "    </tr>\n",
       "    <tr>\n",
       "      <th>17</th>\n",
       "      <td>Baguette</td>\n",
       "      <td>152</td>\n",
       "    </tr>\n",
       "    <tr>\n",
       "      <th>18</th>\n",
       "      <td>Tiffin</td>\n",
       "      <td>146</td>\n",
       "    </tr>\n",
       "    <tr>\n",
       "      <th>19</th>\n",
       "      <td>Jammie Dodgers</td>\n",
       "      <td>125</td>\n",
       "    </tr>\n",
       "    <tr>\n",
       "      <th>20</th>\n",
       "      <td>Chicken Stew</td>\n",
       "      <td>123</td>\n",
       "    </tr>\n",
       "    <tr>\n",
       "      <th>21</th>\n",
       "      <td>Hearty &amp; Seasonal</td>\n",
       "      <td>107</td>\n",
       "    </tr>\n",
       "    <tr>\n",
       "      <th>22</th>\n",
       "      <td>Salad</td>\n",
       "      <td>99</td>\n",
       "    </tr>\n",
       "    <tr>\n",
       "      <th>23</th>\n",
       "      <td>Frittata</td>\n",
       "      <td>81</td>\n",
       "    </tr>\n",
       "    <tr>\n",
       "      <th>24</th>\n",
       "      <td>Keeping It Local</td>\n",
       "      <td>63</td>\n",
       "    </tr>\n",
       "    <tr>\n",
       "      <th>25</th>\n",
       "      <td>The Nomad</td>\n",
       "      <td>58</td>\n",
       "    </tr>\n",
       "    <tr>\n",
       "      <th>26</th>\n",
       "      <td>Vegan mincepie</td>\n",
       "      <td>54</td>\n",
       "    </tr>\n",
       "    <tr>\n",
       "      <th>27</th>\n",
       "      <td>Focaccia</td>\n",
       "      <td>54</td>\n",
       "    </tr>\n",
       "    <tr>\n",
       "      <th>28</th>\n",
       "      <td>Bakewell</td>\n",
       "      <td>48</td>\n",
       "    </tr>\n",
       "    <tr>\n",
       "      <th>29</th>\n",
       "      <td>Tartine</td>\n",
       "      <td>47</td>\n",
       "    </tr>\n",
       "    <tr>\n",
       "      <th>30</th>\n",
       "      <td>Vegan Feast</td>\n",
       "      <td>16</td>\n",
       "    </tr>\n",
       "    <tr>\n",
       "      <th>31</th>\n",
       "      <td>Kids biscuit</td>\n",
       "      <td>12</td>\n",
       "    </tr>\n",
       "    <tr>\n",
       "      <th>32</th>\n",
       "      <td>Tacos/Fajita</td>\n",
       "      <td>11</td>\n",
       "    </tr>\n",
       "    <tr>\n",
       "      <th>33</th>\n",
       "      <td>Empanadas</td>\n",
       "      <td>7</td>\n",
       "    </tr>\n",
       "    <tr>\n",
       "      <th>34</th>\n",
       "      <td>Pintxos</td>\n",
       "      <td>6</td>\n",
       "    </tr>\n",
       "    <tr>\n",
       "      <th>35</th>\n",
       "      <td>Crepes</td>\n",
       "      <td>6</td>\n",
       "    </tr>\n",
       "    <tr>\n",
       "      <th>36</th>\n",
       "      <td>Panatone</td>\n",
       "      <td>5</td>\n",
       "    </tr>\n",
       "    <tr>\n",
       "      <th>37</th>\n",
       "      <td>Bread Pudding</td>\n",
       "      <td>4</td>\n",
       "    </tr>\n",
       "    <tr>\n",
       "      <th>38</th>\n",
       "      <td>Raspberry shortbread sandwich</td>\n",
       "      <td>3</td>\n",
       "    </tr>\n",
       "    <tr>\n",
       "      <th>39</th>\n",
       "      <td>Caramel bites</td>\n",
       "      <td>3</td>\n",
       "    </tr>\n",
       "    <tr>\n",
       "      <th>40</th>\n",
       "      <td>Brioche and salami</td>\n",
       "      <td>3</td>\n",
       "    </tr>\n",
       "    <tr>\n",
       "      <th>41</th>\n",
       "      <td>Bacon</td>\n",
       "      <td>1</td>\n",
       "    </tr>\n",
       "    <tr>\n",
       "      <th>42</th>\n",
       "      <td>Raw bars</td>\n",
       "      <td>1</td>\n",
       "    </tr>\n",
       "    <tr>\n",
       "      <th>43</th>\n",
       "      <td>Chicken sand</td>\n",
       "      <td>1</td>\n",
       "    </tr>\n",
       "  </tbody>\n",
       "</table>\n",
       "</div>"
      ],
      "text/plain": [
       "                             Item  period_day\n",
       "0                           Bread        3325\n",
       "1                            Cake        1025\n",
       "2                          Pastry         856\n",
       "3                        Sandwich         771\n",
       "4                       Medialuna         616\n",
       "5                         Cookies         540\n",
       "6                         Brownie         379\n",
       "7                      Farm House         374\n",
       "8                          Muffin         370\n",
       "9                       Alfajores         369\n",
       "10                           Soup         342\n",
       "11                          Scone         327\n",
       "12                          Toast         318\n",
       "13                   Scandinavian         277\n",
       "14                       Truffles         193\n",
       "15                 Spanish Brunch         172\n",
       "16                          Fudge         159\n",
       "17                       Baguette         152\n",
       "18                         Tiffin         146\n",
       "19                 Jammie Dodgers         125\n",
       "20                   Chicken Stew         123\n",
       "21              Hearty & Seasonal         107\n",
       "22                          Salad          99\n",
       "23                       Frittata          81\n",
       "24               Keeping It Local          63\n",
       "25                      The Nomad          58\n",
       "26                 Vegan mincepie          54\n",
       "27                       Focaccia          54\n",
       "28                       Bakewell          48\n",
       "29                        Tartine          47\n",
       "30                    Vegan Feast          16\n",
       "31                   Kids biscuit          12\n",
       "32                   Tacos/Fajita          11\n",
       "33                      Empanadas           7\n",
       "34                        Pintxos           6\n",
       "35                         Crepes           6\n",
       "36                       Panatone           5\n",
       "37                  Bread Pudding           4\n",
       "38  Raspberry shortbread sandwich           3\n",
       "39                  Caramel bites           3\n",
       "40             Brioche and salami           3\n",
       "41                          Bacon           1\n",
       "42                       Raw bars           1\n",
       "43                   Chicken sand           1"
      ]
     },
     "execution_count": 50,
     "metadata": {},
     "output_type": "execute_result"
    }
   ],
   "source": [
    "### Sales Category By FOOD (Bakery & Non_Bakery)\n",
    "df_food = df[df['item_category'] == 'Food'].pivot_table(index='Item', values='period_day', aggfunc='count').sort_values('period_day', ascending = False).reset_index()\n",
    "df_food"
   ]
  },
  {
   "cell_type": "code",
   "execution_count": 51,
   "metadata": {},
   "outputs": [],
   "source": [
    "df_food5=df_food.head(10)"
   ]
  },
  {
   "cell_type": "code",
   "execution_count": 52,
   "metadata": {},
   "outputs": [
    {
     "data": {
      "image/png": "[encoded data removed]",
      "text/plain": [
       "<Figure size 720x360 with 1 Axes>"
      ]
     },
     "metadata": {
      "needs_background": "light"
     },
     "output_type": "display_data"
    }
   ],
   "source": [
    "plt.figure(figsize=(10,5))\n",
    "plt.bar(x=df_food5['Item'], height=df_food5['period_day'])\n",
    "plt.title(\"Top 10 Food Sales on Edinburgh Bakery Shop (All Transaction)\",size=15)\n",
    "plt.xlabel('Item', size=18)\n",
    "plt.ylabel(\"Sales\",size=18)\n",
    "plt.yticks(fontsize=15)\n",
    "plt.xticks(rotation=45,size=15)\n",
    "plt.show()"
   ]
  },
  {
   "cell_type": "markdown",
   "metadata": {},
   "source": [
    "- Bread is the top item sold in Edinburgh Bakeryshop (in all food category)"
   ]
  },
  {
   "cell_type": "code",
   "execution_count": 53,
   "metadata": {},
   "outputs": [],
   "source": [
    "#### By Bakery Category\n",
    "df_bakery= df[df['bakery_category'] == 'Bakery'].pivot_table(index='Item', values='period_day', aggfunc='count').sort_values('period_day', ascending = False).reset_index()\n",
    "df_bakery\n",
    "df_bakery.to_excel('bakery.xlsx', index=False)"
   ]
  },
  {
   "cell_type": "code",
   "execution_count": 54,
   "metadata": {},
   "outputs": [],
   "source": [
    "df_bakery_top5=df_bakery.head(10)"
   ]
  },
  {
   "cell_type": "code",
   "execution_count": 55,
   "metadata": {},
   "outputs": [
    {
     "data": {
      "image/png": "[encoded data removed]",
      "text/plain": [
       "<Figure size 720x360 with 1 Axes>"
      ]
     },
     "metadata": {
      "needs_background": "light"
     },
     "output_type": "display_data"
    }
   ],
   "source": [
    "plt.figure(figsize=(10,5))\n",
    "plt.bar(x=df_bakery_top5['Item'], height=df_bakery_top5['period_day'])\n",
    "plt.title(\"Top 10 Bakery Item Sales on Edinburgh Bakery Shop (All Transaction)\",size = 15)\n",
    "plt.xlabel('Item', size=18)\n",
    "plt.ylabel(\"Sales\",size=18)\n",
    "plt.yticks(fontsize=15)\n",
    "plt.xticks(rotation=45,size=15)\n",
    "plt.show()"
   ]
  },
  {
   "cell_type": "markdown",
   "metadata": {},
   "source": [
    "- In Bakery Category, Bread also is the top item sold in Edinburgh Bakery Shop"
   ]
  },
  {
   "cell_type": "code",
   "execution_count": 56,
   "metadata": {},
   "outputs": [
    {
     "data": {
      "text/html": [
       "<div>\n",
       "<style scoped>\n",
       "    .dataframe tbody tr th:only-of-type {\n",
       "        vertical-align: middle;\n",
       "    }\n",
       "\n",
       "    .dataframe tbody tr th {\n",
       "        vertical-align: top;\n",
       "    }\n",
       "\n",
       "    .dataframe thead th {\n",
       "        text-align: right;\n",
       "    }\n",
       "</style>\n",
       "<table border=\"1\" class=\"dataframe\">\n",
       "  <thead>\n",
       "    <tr style=\"text-align: right;\">\n",
       "      <th></th>\n",
       "      <th>Item</th>\n",
       "      <th>period_day</th>\n",
       "    </tr>\n",
       "  </thead>\n",
       "  <tbody>\n",
       "    <tr>\n",
       "      <th>0</th>\n",
       "      <td>Farm House</td>\n",
       "      <td>374</td>\n",
       "    </tr>\n",
       "    <tr>\n",
       "      <th>1</th>\n",
       "      <td>Soup</td>\n",
       "      <td>342</td>\n",
       "    </tr>\n",
       "    <tr>\n",
       "      <th>2</th>\n",
       "      <td>Spanish Brunch</td>\n",
       "      <td>172</td>\n",
       "    </tr>\n",
       "    <tr>\n",
       "      <th>3</th>\n",
       "      <td>Chicken Stew</td>\n",
       "      <td>123</td>\n",
       "    </tr>\n",
       "    <tr>\n",
       "      <th>4</th>\n",
       "      <td>Hearty &amp; Seasonal</td>\n",
       "      <td>107</td>\n",
       "    </tr>\n",
       "    <tr>\n",
       "      <th>5</th>\n",
       "      <td>Salad</td>\n",
       "      <td>99</td>\n",
       "    </tr>\n",
       "    <tr>\n",
       "      <th>6</th>\n",
       "      <td>Frittata</td>\n",
       "      <td>81</td>\n",
       "    </tr>\n",
       "    <tr>\n",
       "      <th>7</th>\n",
       "      <td>Keeping It Local</td>\n",
       "      <td>63</td>\n",
       "    </tr>\n",
       "    <tr>\n",
       "      <th>8</th>\n",
       "      <td>Vegan Feast</td>\n",
       "      <td>16</td>\n",
       "    </tr>\n",
       "    <tr>\n",
       "      <th>9</th>\n",
       "      <td>Tacos/Fajita</td>\n",
       "      <td>11</td>\n",
       "    </tr>\n",
       "    <tr>\n",
       "      <th>10</th>\n",
       "      <td>Pintxos</td>\n",
       "      <td>6</td>\n",
       "    </tr>\n",
       "    <tr>\n",
       "      <th>11</th>\n",
       "      <td>Brioche and salami</td>\n",
       "      <td>3</td>\n",
       "    </tr>\n",
       "    <tr>\n",
       "      <th>12</th>\n",
       "      <td>Bacon</td>\n",
       "      <td>1</td>\n",
       "    </tr>\n",
       "    <tr>\n",
       "      <th>13</th>\n",
       "      <td>Chicken sand</td>\n",
       "      <td>1</td>\n",
       "    </tr>\n",
       "  </tbody>\n",
       "</table>\n",
       "</div>"
      ],
      "text/plain": [
       "                  Item  period_day\n",
       "0           Farm House         374\n",
       "1                 Soup         342\n",
       "2       Spanish Brunch         172\n",
       "3         Chicken Stew         123\n",
       "4    Hearty & Seasonal         107\n",
       "5                Salad          99\n",
       "6             Frittata          81\n",
       "7     Keeping It Local          63\n",
       "8          Vegan Feast          16\n",
       "9         Tacos/Fajita          11\n",
       "10             Pintxos           6\n",
       "11  Brioche and salami           3\n",
       "12               Bacon           1\n",
       "13        Chicken sand           1"
      ]
     },
     "execution_count": 56,
     "metadata": {},
     "output_type": "execute_result"
    }
   ],
   "source": [
    "df_non_bakery= df[(df['bakery_category'] == 'Non Bakery') & (df['item_category']=='Food')].pivot_table(index='Item', values='period_day', aggfunc='count').sort_values('period_day', ascending = False).reset_index()\n",
    "df_non_bakery.to_excel('non_bakery.xlsx', index=False)\n",
    "df_non_bakery"
   ]
  },
  {
   "cell_type": "markdown",
   "metadata": {},
   "source": [
    "### MULTIVARIATE ANALYSIS"
   ]
  },
  {
   "cell_type": "code",
   "execution_count": 57,
   "metadata": {},
   "outputs": [],
   "source": [
    "## Monthly Sales Food Bakery\n",
    "df_monthly_salesfoodbakery = df[(df['item_category'] == 'Food') & (df['bakery_category'] == 'Bakery')].pivot_table(index='yearmonth', values='period_day', aggfunc='count').reset_index()\n",
    "df_monthly_salesfoodbakery.rename(columns = {'period_day':'bakery_sales'}, inplace=True)\n",
    "# df_monthly_salesfoodbakery"
   ]
  },
  {
   "cell_type": "code",
   "execution_count": 58,
   "metadata": {},
   "outputs": [],
   "source": [
    "df_monthly_salesfoodnonbakery = df[(df['item_category'] == 'Food') & (df['bakery_category'] == 'Non Bakery')].pivot_table(index='yearmonth', values='period_day', aggfunc='count').reset_index()\n",
    "df_monthly_salesfoodnonbakery.rename(columns = {'period_day':'non_bakery_sales'}, inplace=True)\n",
    "# df_monthly_salesfoodnonbakery"
   ]
  },
  {
   "cell_type": "code",
   "execution_count": 59,
   "metadata": {},
   "outputs": [],
   "source": [
    "df_merge_monthlytotalbakerynonbakery = pd.merge(df_monthly_salesfoodbakery, df_monthly_salesfoodnonbakery, on = ['yearmonth'])\n",
    "# df_merge_monthlytotalbakerynonbakery"
   ]
  },
  {
   "cell_type": "code",
   "execution_count": 60,
   "metadata": {},
   "outputs": [],
   "source": [
    "df_monthly_salesbeverages = df[(df['item_category'] == 'Beverages')].pivot_table(index='yearmonth', values='period_day', aggfunc='count').reset_index()\n",
    "df_monthly_salesbeverages.rename(columns = {'period_day':'beverages_sales'}, inplace=True)\n",
    "# df_monthly_salesbeverages"
   ]
  },
  {
   "cell_type": "code",
   "execution_count": 61,
   "metadata": {},
   "outputs": [],
   "source": [
    "df_merge_monthlysales = pd.merge(df_merge_monthlytotalbakerynonbakery, df_monthly_salesbeverages, on = ['yearmonth'])\n",
    "df_merge_monthlysales.drop(index=0, inplace=True)\n",
    "df_merge_monthlysales.drop(index=6, inplace=True)"
   ]
  },
  {
   "cell_type": "code",
   "execution_count": 62,
   "metadata": {},
   "outputs": [
    {
     "data": {
      "image/png": "[encoded data removed]",
      "text/plain": [
       "<Figure size 1500x800 with 1 Axes>"
      ]
     },
     "metadata": {
      "needs_background": "light"
     },
     "output_type": "display_data"
    }
   ],
   "source": [
    "plt.figure(figsize=(15,8),dpi=100)\n",
    "plt.plot(\n",
    "    df_merge_monthlysales['yearmonth'], df_merge_monthlysales['bakery_sales'], 'go-',\n",
    "    df_merge_monthlysales['yearmonth'], df_merge_monthlysales['non_bakery_sales'], 'ro-.',\n",
    "    df_merge_monthlysales['yearmonth'], df_merge_monthlysales['beverages_sales'], 'bo-',\n",
    "\n",
    ")\n",
    "        \n",
    "plt.title(\"Edinburgh Bakery Shop Monthly Sales\", size=15)\n",
    "plt.xlabel(\"Year Month\")\n",
    "plt.ylabel(\"Sales\")\n",
    "plt.grid(True)\n",
    "plt.legend([\"Bakery Sales\", \"Food Non Bakery Sales\", \"Beverages Sales\"], loc=0)\n",
    "plt.savefig('MonthlySales.png')\n",
    "\n",
    "plt.show()"
   ]
  },
  {
   "cell_type": "markdown",
   "metadata": {},
   "source": [
    "- Bakery is the top category item sold in Edinburgh Bakery Shop every month\n",
    "- Beverages is the second top category item sold in Edinburgh Bakery Shop every month"
   ]
  },
  {
   "cell_type": "markdown",
   "metadata": {},
   "source": [
    "##### Sales By Top Month (November 2016)"
   ]
  },
  {
   "cell_type": "code",
   "execution_count": 63,
   "metadata": {},
   "outputs": [
    {
     "data": {
      "text/html": [
       "<div>\n",
       "<style scoped>\n",
       "    .dataframe tbody tr th:only-of-type {\n",
       "        vertical-align: middle;\n",
       "    }\n",
       "\n",
       "    .dataframe tbody tr th {\n",
       "        vertical-align: top;\n",
       "    }\n",
       "\n",
       "    .dataframe thead th {\n",
       "        text-align: right;\n",
       "    }\n",
       "</style>\n",
       "<table border=\"1\" class=\"dataframe\">\n",
       "  <thead>\n",
       "    <tr style=\"text-align: right;\">\n",
       "      <th></th>\n",
       "      <th>item_category</th>\n",
       "      <th>Sales</th>\n",
       "    </tr>\n",
       "  </thead>\n",
       "  <tbody>\n",
       "    <tr>\n",
       "      <th>1</th>\n",
       "      <td>Food</td>\n",
       "      <td>2540</td>\n",
       "    </tr>\n",
       "    <tr>\n",
       "      <th>0</th>\n",
       "      <td>Beverages</td>\n",
       "      <td>1743</td>\n",
       "    </tr>\n",
       "    <tr>\n",
       "      <th>2</th>\n",
       "      <td>Others</td>\n",
       "      <td>153</td>\n",
       "    </tr>\n",
       "  </tbody>\n",
       "</table>\n",
       "</div>"
      ],
      "text/plain": [
       "  item_category  Sales\n",
       "1          Food   2540\n",
       "0     Beverages   1743\n",
       "2        Others    153"
      ]
     },
     "execution_count": 63,
     "metadata": {},
     "output_type": "execute_result"
    }
   ],
   "source": [
    "df_november_sales_byitemcategory = df[df['yearmonth']=='2016-11'].pivot_table(index='item_category', values='period_day', aggfunc='count').reset_index().sort_values('period_day', ascending=False).head(10)\n",
    "df_november_sales_byitemcategory.rename(columns = {'period_day':'Sales'}, inplace=True)\n",
    "df_november_sales_byitemcategory.to_excel('november_sales_byitemcategory.xlsx', index=False)\n",
    "df_november_sales_byitemcategory"
   ]
  },
  {
   "cell_type": "code",
   "execution_count": 64,
   "metadata": {},
   "outputs": [
    {
     "data": {
      "text/html": [
       "<div>\n",
       "<style scoped>\n",
       "    .dataframe tbody tr th:only-of-type {\n",
       "        vertical-align: middle;\n",
       "    }\n",
       "\n",
       "    .dataframe tbody tr th {\n",
       "        vertical-align: top;\n",
       "    }\n",
       "\n",
       "    .dataframe thead th {\n",
       "        text-align: right;\n",
       "    }\n",
       "</style>\n",
       "<table border=\"1\" class=\"dataframe\">\n",
       "  <thead>\n",
       "    <tr style=\"text-align: right;\">\n",
       "      <th></th>\n",
       "      <th>Item</th>\n",
       "      <th>Sales</th>\n",
       "    </tr>\n",
       "  </thead>\n",
       "  <tbody>\n",
       "    <tr>\n",
       "      <th>2</th>\n",
       "      <td>Bread</td>\n",
       "      <td>712</td>\n",
       "    </tr>\n",
       "    <tr>\n",
       "      <th>15</th>\n",
       "      <td>Pastry</td>\n",
       "      <td>218</td>\n",
       "    </tr>\n",
       "    <tr>\n",
       "      <th>13</th>\n",
       "      <td>Medialuna</td>\n",
       "      <td>208</td>\n",
       "    </tr>\n",
       "    <tr>\n",
       "      <th>4</th>\n",
       "      <td>Brownie</td>\n",
       "      <td>154</td>\n",
       "    </tr>\n",
       "    <tr>\n",
       "      <th>0</th>\n",
       "      <td>Alfajores</td>\n",
       "      <td>141</td>\n",
       "    </tr>\n",
       "    <tr>\n",
       "      <th>14</th>\n",
       "      <td>Muffin</td>\n",
       "      <td>127</td>\n",
       "    </tr>\n",
       "    <tr>\n",
       "      <th>5</th>\n",
       "      <td>Cake</td>\n",
       "      <td>116</td>\n",
       "    </tr>\n",
       "    <tr>\n",
       "      <th>17</th>\n",
       "      <td>Scandinavian</td>\n",
       "      <td>105</td>\n",
       "    </tr>\n",
       "    <tr>\n",
       "      <th>16</th>\n",
       "      <td>Sandwich</td>\n",
       "      <td>103</td>\n",
       "    </tr>\n",
       "    <tr>\n",
       "      <th>7</th>\n",
       "      <td>Cookies</td>\n",
       "      <td>87</td>\n",
       "    </tr>\n",
       "    <tr>\n",
       "      <th>10</th>\n",
       "      <td>Fudge</td>\n",
       "      <td>55</td>\n",
       "    </tr>\n",
       "    <tr>\n",
       "      <th>18</th>\n",
       "      <td>Tartine</td>\n",
       "      <td>39</td>\n",
       "    </tr>\n",
       "    <tr>\n",
       "      <th>21</th>\n",
       "      <td>Truffles</td>\n",
       "      <td>29</td>\n",
       "    </tr>\n",
       "    <tr>\n",
       "      <th>9</th>\n",
       "      <td>Focaccia</td>\n",
       "      <td>28</td>\n",
       "    </tr>\n",
       "    <tr>\n",
       "      <th>12</th>\n",
       "      <td>Kids biscuit</td>\n",
       "      <td>12</td>\n",
       "    </tr>\n",
       "    <tr>\n",
       "      <th>11</th>\n",
       "      <td>Jammie Dodgers</td>\n",
       "      <td>11</td>\n",
       "    </tr>\n",
       "    <tr>\n",
       "      <th>1</th>\n",
       "      <td>Bakewell</td>\n",
       "      <td>10</td>\n",
       "    </tr>\n",
       "    <tr>\n",
       "      <th>8</th>\n",
       "      <td>Empanadas</td>\n",
       "      <td>7</td>\n",
       "    </tr>\n",
       "    <tr>\n",
       "      <th>20</th>\n",
       "      <td>Tiffin</td>\n",
       "      <td>7</td>\n",
       "    </tr>\n",
       "    <tr>\n",
       "      <th>3</th>\n",
       "      <td>Bread Pudding</td>\n",
       "      <td>4</td>\n",
       "    </tr>\n",
       "    <tr>\n",
       "      <th>6</th>\n",
       "      <td>Caramel bites</td>\n",
       "      <td>3</td>\n",
       "    </tr>\n",
       "    <tr>\n",
       "      <th>19</th>\n",
       "      <td>The Nomad</td>\n",
       "      <td>3</td>\n",
       "    </tr>\n",
       "  </tbody>\n",
       "</table>\n",
       "</div>"
      ],
      "text/plain": [
       "              Item  Sales\n",
       "2            Bread    712\n",
       "15          Pastry    218\n",
       "13       Medialuna    208\n",
       "4          Brownie    154\n",
       "0        Alfajores    141\n",
       "14          Muffin    127\n",
       "5             Cake    116\n",
       "17    Scandinavian    105\n",
       "16        Sandwich    103\n",
       "7          Cookies     87\n",
       "10           Fudge     55\n",
       "18         Tartine     39\n",
       "21        Truffles     29\n",
       "9         Focaccia     28\n",
       "12    Kids biscuit     12\n",
       "11  Jammie Dodgers     11\n",
       "1         Bakewell     10\n",
       "8        Empanadas      7\n",
       "20          Tiffin      7\n",
       "3    Bread Pudding      4\n",
       "6    Caramel bites      3\n",
       "19       The Nomad      3"
      ]
     },
     "execution_count": 64,
     "metadata": {},
     "output_type": "execute_result"
    }
   ],
   "source": [
    "df_november_sales_bakery = df[(df['bakery_category'] == 'Bakery') & (df['yearmonth'] == '2016-11')].pivot_table(index='Item', values='period_day', aggfunc='count').reset_index().sort_values('period_day', ascending=False)\n",
    "df_november_sales_bakery.rename(columns = {'period_day':'Sales'}, inplace=True)\n",
    "df_november_sales_bakery.to_excel('november_sales_bakery.xlsx', index=False)\n",
    "df_november_sales_bakery"
   ]
  },
  {
   "cell_type": "code",
   "execution_count": 65,
   "metadata": {},
   "outputs": [
    {
     "data": {
      "text/html": [
       "<div>\n",
       "<style scoped>\n",
       "    .dataframe tbody tr th:only-of-type {\n",
       "        vertical-align: middle;\n",
       "    }\n",
       "\n",
       "    .dataframe tbody tr th {\n",
       "        vertical-align: top;\n",
       "    }\n",
       "\n",
       "    .dataframe thead th {\n",
       "        text-align: right;\n",
       "    }\n",
       "</style>\n",
       "<table border=\"1\" class=\"dataframe\">\n",
       "  <thead>\n",
       "    <tr style=\"text-align: right;\">\n",
       "      <th></th>\n",
       "      <th>Item</th>\n",
       "      <th>Sales</th>\n",
       "    </tr>\n",
       "  </thead>\n",
       "  <tbody>\n",
       "    <tr>\n",
       "      <th>1</th>\n",
       "      <td>Farm House</td>\n",
       "      <td>113</td>\n",
       "    </tr>\n",
       "    <tr>\n",
       "      <th>5</th>\n",
       "      <td>Soup</td>\n",
       "      <td>98</td>\n",
       "    </tr>\n",
       "    <tr>\n",
       "      <th>3</th>\n",
       "      <td>Hearty &amp; Seasonal</td>\n",
       "      <td>71</td>\n",
       "    </tr>\n",
       "    <tr>\n",
       "      <th>4</th>\n",
       "      <td>Keeping It Local</td>\n",
       "      <td>61</td>\n",
       "    </tr>\n",
       "    <tr>\n",
       "      <th>2</th>\n",
       "      <td>Frittata</td>\n",
       "      <td>17</td>\n",
       "    </tr>\n",
       "    <tr>\n",
       "      <th>0</th>\n",
       "      <td>Bacon</td>\n",
       "      <td>1</td>\n",
       "    </tr>\n",
       "  </tbody>\n",
       "</table>\n",
       "</div>"
      ],
      "text/plain": [
       "                Item  Sales\n",
       "1         Farm House    113\n",
       "5               Soup     98\n",
       "3  Hearty & Seasonal     71\n",
       "4   Keeping It Local     61\n",
       "2           Frittata     17\n",
       "0              Bacon      1"
      ]
     },
     "execution_count": 65,
     "metadata": {},
     "output_type": "execute_result"
    }
   ],
   "source": [
    "df_november_sales_nonbakery = df[(df['yearmonth']=='2016-11') & (df['item_category']=='Food') & (df['bakery_category']=='Non Bakery')].pivot_table(index='Item', values='period_day', aggfunc='count').reset_index().sort_values('period_day', ascending=False)\n",
    "df_november_sales_nonbakery.rename(columns = {'period_day':'Sales'}, inplace=True)\n",
    "df_november_sales_nonbakery.to_excel('november_sales_nonbakery.xlsx', index=False)\n",
    "df_november_sales_nonbakery"
   ]
  },
  {
   "cell_type": "code",
   "execution_count": 66,
   "metadata": {},
   "outputs": [
    {
     "data": {
      "text/html": [
       "<div>\n",
       "<style scoped>\n",
       "    .dataframe tbody tr th:only-of-type {\n",
       "        vertical-align: middle;\n",
       "    }\n",
       "\n",
       "    .dataframe tbody tr th {\n",
       "        vertical-align: top;\n",
       "    }\n",
       "\n",
       "    .dataframe thead th {\n",
       "        text-align: right;\n",
       "    }\n",
       "</style>\n",
       "<table border=\"1\" class=\"dataframe\">\n",
       "  <thead>\n",
       "    <tr style=\"text-align: right;\">\n",
       "      <th></th>\n",
       "      <th>Item</th>\n",
       "      <th>Sales</th>\n",
       "    </tr>\n",
       "  </thead>\n",
       "  <tbody>\n",
       "    <tr>\n",
       "      <th>0</th>\n",
       "      <td>Coffee</td>\n",
       "      <td>1189</td>\n",
       "    </tr>\n",
       "    <tr>\n",
       "      <th>6</th>\n",
       "      <td>Tea</td>\n",
       "      <td>311</td>\n",
       "    </tr>\n",
       "    <tr>\n",
       "      <th>2</th>\n",
       "      <td>Hot chocolate</td>\n",
       "      <td>118</td>\n",
       "    </tr>\n",
       "    <tr>\n",
       "      <th>3</th>\n",
       "      <td>Juice</td>\n",
       "      <td>46</td>\n",
       "    </tr>\n",
       "    <tr>\n",
       "      <th>4</th>\n",
       "      <td>Mineral water</td>\n",
       "      <td>40</td>\n",
       "    </tr>\n",
       "    <tr>\n",
       "      <th>1</th>\n",
       "      <td>Coke</td>\n",
       "      <td>27</td>\n",
       "    </tr>\n",
       "    <tr>\n",
       "      <th>5</th>\n",
       "      <td>Smoothies</td>\n",
       "      <td>12</td>\n",
       "    </tr>\n",
       "  </tbody>\n",
       "</table>\n",
       "</div>"
      ],
      "text/plain": [
       "            Item  Sales\n",
       "0         Coffee   1189\n",
       "6            Tea    311\n",
       "2  Hot chocolate    118\n",
       "3          Juice     46\n",
       "4  Mineral water     40\n",
       "1           Coke     27\n",
       "5      Smoothies     12"
      ]
     },
     "execution_count": 66,
     "metadata": {},
     "output_type": "execute_result"
    }
   ],
   "source": [
    "df_november_sales_beverage = df[(df['item_category'] == 'Beverages') & (df['yearmonth'] == '2016-11')].pivot_table(index='Item', values='period_day', aggfunc='count').reset_index().sort_values('period_day', ascending=False)\n",
    "df_november_sales_beverage.rename(columns = {'period_day':'Sales'}, inplace=True)\n",
    "df_november_sales_beverage.to_excel('november_sales_beverage.xlsx', index=False)\n",
    "df_november_sales_beverage"
   ]
  },
  {
   "cell_type": "code",
   "execution_count": null,
   "metadata": {},
   "outputs": [],
   "source": [
    "- Food & Beverages category are top two item sold in Edinburgh Bakery Shop on most crowded month (November 2016)\n",
    "- Bread is the most favorite bakery food category item sold in Edinburgh Bakery shop on most crowded month (November 2016)\n",
    "- Farm house is the most favorite non-bakery food category item sold in Edinburgh Bakery Shop on most crowded month (November 2016)\n",
    "- Coffee is the most beverages cateogry item sold in Edinburgh Bakery Shop on most crowded month (November 2016)"
   ]
  },
  {
   "cell_type": "markdown",
   "metadata": {},
   "source": [
    "##### Sales By Lowest Month (December 2016)"
   ]
  },
  {
   "cell_type": "code",
   "execution_count": 67,
   "metadata": {},
   "outputs": [
    {
     "data": {
      "text/html": [
       "<div>\n",
       "<style scoped>\n",
       "    .dataframe tbody tr th:only-of-type {\n",
       "        vertical-align: middle;\n",
       "    }\n",
       "\n",
       "    .dataframe tbody tr th {\n",
       "        vertical-align: top;\n",
       "    }\n",
       "\n",
       "    .dataframe thead th {\n",
       "        text-align: right;\n",
       "    }\n",
       "</style>\n",
       "<table border=\"1\" class=\"dataframe\">\n",
       "  <thead>\n",
       "    <tr style=\"text-align: right;\">\n",
       "      <th></th>\n",
       "      <th>item_category</th>\n",
       "      <th>Sales</th>\n",
       "    </tr>\n",
       "  </thead>\n",
       "  <tbody>\n",
       "    <tr>\n",
       "      <th>1</th>\n",
       "      <td>Food</td>\n",
       "      <td>1826</td>\n",
       "    </tr>\n",
       "    <tr>\n",
       "      <th>0</th>\n",
       "      <td>Beverages</td>\n",
       "      <td>1423</td>\n",
       "    </tr>\n",
       "    <tr>\n",
       "      <th>2</th>\n",
       "      <td>Others</td>\n",
       "      <td>90</td>\n",
       "    </tr>\n",
       "  </tbody>\n",
       "</table>\n",
       "</div>"
      ],
      "text/plain": [
       "  item_category  Sales\n",
       "1          Food   1826\n",
       "0     Beverages   1423\n",
       "2        Others     90"
      ]
     },
     "execution_count": 67,
     "metadata": {},
     "output_type": "execute_result"
    }
   ],
   "source": [
    "df_december_sales_byitemcategory = df[df['yearmonth']=='2016-12'].pivot_table(index='item_category', values='period_day', aggfunc='count').reset_index().sort_values('period_day', ascending=False).head(10)\n",
    "df_december_sales_byitemcategory.rename(columns = {'period_day':'Sales'}, inplace=True)\n",
    "df_december_sales_byitemcategory.to_excel('december_sales_byitemcategory.xlsx', index=False)\n",
    "df_december_sales_byitemcategory"
   ]
  },
  {
   "cell_type": "code",
   "execution_count": 68,
   "metadata": {},
   "outputs": [
    {
     "data": {
      "text/html": [
       "<div>\n",
       "<style scoped>\n",
       "    .dataframe tbody tr th:only-of-type {\n",
       "        vertical-align: middle;\n",
       "    }\n",
       "\n",
       "    .dataframe tbody tr th {\n",
       "        vertical-align: top;\n",
       "    }\n",
       "\n",
       "    .dataframe thead th {\n",
       "        text-align: right;\n",
       "    }\n",
       "</style>\n",
       "<table border=\"1\" class=\"dataframe\">\n",
       "  <thead>\n",
       "    <tr style=\"text-align: right;\">\n",
       "      <th></th>\n",
       "      <th>Item</th>\n",
       "      <th>Sales</th>\n",
       "    </tr>\n",
       "  </thead>\n",
       "  <tbody>\n",
       "    <tr>\n",
       "      <th>2</th>\n",
       "      <td>Bread</td>\n",
       "      <td>625</td>\n",
       "    </tr>\n",
       "    <tr>\n",
       "      <th>10</th>\n",
       "      <td>Medialuna</td>\n",
       "      <td>141</td>\n",
       "    </tr>\n",
       "    <tr>\n",
       "      <th>4</th>\n",
       "      <td>Cake</td>\n",
       "      <td>141</td>\n",
       "    </tr>\n",
       "    <tr>\n",
       "      <th>14</th>\n",
       "      <td>Sandwich</td>\n",
       "      <td>129</td>\n",
       "    </tr>\n",
       "    <tr>\n",
       "      <th>13</th>\n",
       "      <td>Pastry</td>\n",
       "      <td>129</td>\n",
       "    </tr>\n",
       "    <tr>\n",
       "      <th>16</th>\n",
       "      <td>Scone</td>\n",
       "      <td>69</td>\n",
       "    </tr>\n",
       "    <tr>\n",
       "      <th>5</th>\n",
       "      <td>Cookies</td>\n",
       "      <td>68</td>\n",
       "    </tr>\n",
       "    <tr>\n",
       "      <th>19</th>\n",
       "      <td>Toast</td>\n",
       "      <td>65</td>\n",
       "    </tr>\n",
       "    <tr>\n",
       "      <th>8</th>\n",
       "      <td>Fudge</td>\n",
       "      <td>60</td>\n",
       "    </tr>\n",
       "    <tr>\n",
       "      <th>0</th>\n",
       "      <td>Alfajores</td>\n",
       "      <td>45</td>\n",
       "    </tr>\n",
       "    <tr>\n",
       "      <th>11</th>\n",
       "      <td>Muffin</td>\n",
       "      <td>42</td>\n",
       "    </tr>\n",
       "    <tr>\n",
       "      <th>3</th>\n",
       "      <td>Brownie</td>\n",
       "      <td>37</td>\n",
       "    </tr>\n",
       "    <tr>\n",
       "      <th>15</th>\n",
       "      <td>Scandinavian</td>\n",
       "      <td>34</td>\n",
       "    </tr>\n",
       "    <tr>\n",
       "      <th>21</th>\n",
       "      <td>Vegan mincepie</td>\n",
       "      <td>33</td>\n",
       "    </tr>\n",
       "    <tr>\n",
       "      <th>20</th>\n",
       "      <td>Truffles</td>\n",
       "      <td>27</td>\n",
       "    </tr>\n",
       "    <tr>\n",
       "      <th>9</th>\n",
       "      <td>Jammie Dodgers</td>\n",
       "      <td>18</td>\n",
       "    </tr>\n",
       "    <tr>\n",
       "      <th>7</th>\n",
       "      <td>Focaccia</td>\n",
       "      <td>11</td>\n",
       "    </tr>\n",
       "    <tr>\n",
       "      <th>18</th>\n",
       "      <td>The Nomad</td>\n",
       "      <td>10</td>\n",
       "    </tr>\n",
       "    <tr>\n",
       "      <th>1</th>\n",
       "      <td>Bakewell</td>\n",
       "      <td>8</td>\n",
       "    </tr>\n",
       "    <tr>\n",
       "      <th>6</th>\n",
       "      <td>Crepes</td>\n",
       "      <td>6</td>\n",
       "    </tr>\n",
       "    <tr>\n",
       "      <th>12</th>\n",
       "      <td>Panatone</td>\n",
       "      <td>5</td>\n",
       "    </tr>\n",
       "    <tr>\n",
       "      <th>17</th>\n",
       "      <td>Tartine</td>\n",
       "      <td>2</td>\n",
       "    </tr>\n",
       "  </tbody>\n",
       "</table>\n",
       "</div>"
      ],
      "text/plain": [
       "              Item  Sales\n",
       "2            Bread    625\n",
       "10       Medialuna    141\n",
       "4             Cake    141\n",
       "14        Sandwich    129\n",
       "13          Pastry    129\n",
       "16           Scone     69\n",
       "5          Cookies     68\n",
       "19           Toast     65\n",
       "8            Fudge     60\n",
       "0        Alfajores     45\n",
       "11          Muffin     42\n",
       "3          Brownie     37\n",
       "15    Scandinavian     34\n",
       "21  Vegan mincepie     33\n",
       "20        Truffles     27\n",
       "9   Jammie Dodgers     18\n",
       "7         Focaccia     11\n",
       "18       The Nomad     10\n",
       "1         Bakewell      8\n",
       "6           Crepes      6\n",
       "12        Panatone      5\n",
       "17         Tartine      2"
      ]
     },
     "execution_count": 68,
     "metadata": {},
     "output_type": "execute_result"
    }
   ],
   "source": [
    "df_december_sales_bakery = df[(df['bakery_category'] == 'Bakery') & (df['yearmonth'] == '2016-12')].pivot_table(index='Item', values='period_day', aggfunc='count').reset_index().sort_values('period_day', ascending=False)\n",
    "df_december_sales_bakery.rename(columns = {'period_day':'Sales'}, inplace=True)\n",
    "df_december_sales_bakery.to_excel('december_sales_bakery.xlsx', index=False)\n",
    "df_december_sales_bakery"
   ]
  },
  {
   "cell_type": "code",
   "execution_count": 69,
   "metadata": {},
   "outputs": [
    {
     "data": {
      "text/html": [
       "<div>\n",
       "<style scoped>\n",
       "    .dataframe tbody tr th:only-of-type {\n",
       "        vertical-align: middle;\n",
       "    }\n",
       "\n",
       "    .dataframe tbody tr th {\n",
       "        vertical-align: top;\n",
       "    }\n",
       "\n",
       "    .dataframe thead th {\n",
       "        text-align: right;\n",
       "    }\n",
       "</style>\n",
       "<table border=\"1\" class=\"dataframe\">\n",
       "  <thead>\n",
       "    <tr style=\"text-align: right;\">\n",
       "      <th></th>\n",
       "      <th>Item</th>\n",
       "      <th>Sales</th>\n",
       "    </tr>\n",
       "  </thead>\n",
       "  <tbody>\n",
       "    <tr>\n",
       "      <th>1</th>\n",
       "      <td>Farm House</td>\n",
       "      <td>76</td>\n",
       "    </tr>\n",
       "    <tr>\n",
       "      <th>2</th>\n",
       "      <td>Frittata</td>\n",
       "      <td>26</td>\n",
       "    </tr>\n",
       "    <tr>\n",
       "      <th>3</th>\n",
       "      <td>Hearty &amp; Seasonal</td>\n",
       "      <td>10</td>\n",
       "    </tr>\n",
       "    <tr>\n",
       "      <th>5</th>\n",
       "      <td>Pintxos</td>\n",
       "      <td>6</td>\n",
       "    </tr>\n",
       "    <tr>\n",
       "      <th>4</th>\n",
       "      <td>Keeping It Local</td>\n",
       "      <td>2</td>\n",
       "    </tr>\n",
       "    <tr>\n",
       "      <th>0</th>\n",
       "      <td>Brioche and salami</td>\n",
       "      <td>1</td>\n",
       "    </tr>\n",
       "  </tbody>\n",
       "</table>\n",
       "</div>"
      ],
      "text/plain": [
       "                 Item  Sales\n",
       "1          Farm House     76\n",
       "2            Frittata     26\n",
       "3   Hearty & Seasonal     10\n",
       "5             Pintxos      6\n",
       "4    Keeping It Local      2\n",
       "0  Brioche and salami      1"
      ]
     },
     "execution_count": 69,
     "metadata": {},
     "output_type": "execute_result"
    }
   ],
   "source": [
    "df_december_sales_nonbakery = df[(df['yearmonth']=='2016-12') & (df['item_category']=='Food') & (df['bakery_category'] == 'Non Bakery')].pivot_table(index='Item', values='period_day', aggfunc='count').reset_index().sort_values('period_day', ascending=False)\n",
    "df_december_sales_nonbakery.rename(columns = {'period_day':'Sales'}, inplace=True)\n",
    "df_december_sales_nonbakery.to_excel('december_sales_nonbakery.xlsx', index=False)\n",
    "df_december_sales_nonbakery"
   ]
  },
  {
   "cell_type": "code",
   "execution_count": 70,
   "metadata": {},
   "outputs": [
    {
     "data": {
      "text/html": [
       "<div>\n",
       "<style scoped>\n",
       "    .dataframe tbody tr th:only-of-type {\n",
       "        vertical-align: middle;\n",
       "    }\n",
       "\n",
       "    .dataframe tbody tr th {\n",
       "        vertical-align: top;\n",
       "    }\n",
       "\n",
       "    .dataframe thead th {\n",
       "        text-align: right;\n",
       "    }\n",
       "</style>\n",
       "<table border=\"1\" class=\"dataframe\">\n",
       "  <thead>\n",
       "    <tr style=\"text-align: right;\">\n",
       "      <th></th>\n",
       "      <th>Item</th>\n",
       "      <th>Sales</th>\n",
       "    </tr>\n",
       "  </thead>\n",
       "  <tbody>\n",
       "    <tr>\n",
       "      <th>0</th>\n",
       "      <td>Coffee</td>\n",
       "      <td>932</td>\n",
       "    </tr>\n",
       "    <tr>\n",
       "      <th>6</th>\n",
       "      <td>Tea</td>\n",
       "      <td>235</td>\n",
       "    </tr>\n",
       "    <tr>\n",
       "      <th>2</th>\n",
       "      <td>Hot chocolate</td>\n",
       "      <td>138</td>\n",
       "    </tr>\n",
       "    <tr>\n",
       "      <th>3</th>\n",
       "      <td>Juice</td>\n",
       "      <td>55</td>\n",
       "    </tr>\n",
       "    <tr>\n",
       "      <th>1</th>\n",
       "      <td>Coke</td>\n",
       "      <td>34</td>\n",
       "    </tr>\n",
       "    <tr>\n",
       "      <th>4</th>\n",
       "      <td>Mineral water</td>\n",
       "      <td>20</td>\n",
       "    </tr>\n",
       "    <tr>\n",
       "      <th>5</th>\n",
       "      <td>Smoothies</td>\n",
       "      <td>9</td>\n",
       "    </tr>\n",
       "  </tbody>\n",
       "</table>\n",
       "</div>"
      ],
      "text/plain": [
       "            Item  Sales\n",
       "0         Coffee    932\n",
       "6            Tea    235\n",
       "2  Hot chocolate    138\n",
       "3          Juice     55\n",
       "1           Coke     34\n",
       "4  Mineral water     20\n",
       "5      Smoothies      9"
      ]
     },
     "execution_count": 70,
     "metadata": {},
     "output_type": "execute_result"
    }
   ],
   "source": [
    "df_december_sales_beverages = df[(df['item_category'] == 'Beverages') & (df['yearmonth'] == '2016-12')].pivot_table(index='Item', values='period_day', aggfunc='count').reset_index().sort_values('period_day', ascending=False)\n",
    "df_december_sales_beverages.rename(columns = {'period_day':'Sales'}, inplace=True)\n",
    "df_december_sales_beverages.to_excel('december_sales_beverages.xlsx', index=False)\n",
    "df_december_sales_beverages"
   ]
  },
  {
   "cell_type": "code",
   "execution_count": null,
   "metadata": {},
   "outputs": [],
   "source": [
    "- Food & Beverages category are top two item sold in Edinburgh Bakery Shop on most crowded month (December 2016)\n",
    "- Bread is the most favorite bakery food category item sold in Edinburgh Bakery shop on most crowded month (December 2016)\n",
    "- Farm house is the most favorite non-bakery food category item sold in Edinburgh Bakery Shop on most crowded month (December 2016)\n",
    "- Coffee is the most beverages cateogry item sold in Edinburgh Bakery Shop on most crowded month (December 2016)"
   ]
  },
  {
   "cell_type": "markdown",
   "metadata": {},
   "source": [
    "##### Sales By Week Period"
   ]
  },
  {
   "cell_type": "code",
   "execution_count": 71,
   "metadata": {},
   "outputs": [],
   "source": [
    "### Sales Weekendweekday By Bakery\n",
    "df_weekendweekday_salesbakery = df[(df['item_category'] == 'Food') & (df['bakery_category'] == 'Bakery')].pivot_table(index='weekday_weekend', values='period_day', aggfunc='count').reset_index()\n",
    "df_weekendweekday_salesbakery.rename(columns = {'period_day':'bakery_sales'}, inplace=True)\n",
    "# df_weekendweekday_salesbakery"
   ]
  },
  {
   "cell_type": "code",
   "execution_count": 72,
   "metadata": {},
   "outputs": [],
   "source": [
    "df_weekendweekday_salesnonbakery = df[(df['item_category'] == 'Food') & (df['bakery_category'] == 'Non Bakery')].pivot_table(index='weekday_weekend', values='period_day', aggfunc='count').reset_index()\n",
    "df_weekendweekday_salesnonbakery.rename(columns = {'period_day':'non_bakery_sales'}, inplace=True)\n",
    "# df_weekendweekday_nonsalesbakery"
   ]
  },
  {
   "cell_type": "code",
   "execution_count": 73,
   "metadata": {},
   "outputs": [],
   "source": [
    "df_mergeweekdays_totalbakerynonbakery = pd.merge(df_weekendweekday_salesbakery, df_weekendweekday_salesnonbakery, on = ['weekday_weekend'])\n",
    "# df_mergeweekdays_totalbakerynonbakery"
   ]
  },
  {
   "cell_type": "code",
   "execution_count": 74,
   "metadata": {},
   "outputs": [],
   "source": [
    "df_weekendweekday_salesbeverages = df[(df['item_category'] == 'Beverages')].pivot_table(index='weekday_weekend', values='period_day', aggfunc='count').reset_index()\n",
    "df_weekendweekday_salesbeverages.rename(columns = {'period_day':'beverages_sales'}, inplace=True)\n",
    "# df_weekendweekday_salesbeverages"
   ]
  },
  {
   "cell_type": "code",
   "execution_count": 75,
   "metadata": {},
   "outputs": [
    {
     "data": {
      "text/html": [
       "<div>\n",
       "<style scoped>\n",
       "    .dataframe tbody tr th:only-of-type {\n",
       "        vertical-align: middle;\n",
       "    }\n",
       "\n",
       "    .dataframe tbody tr th {\n",
       "        vertical-align: top;\n",
       "    }\n",
       "\n",
       "    .dataframe thead th {\n",
       "        text-align: right;\n",
       "    }\n",
       "</style>\n",
       "<table border=\"1\" class=\"dataframe\">\n",
       "  <thead>\n",
       "    <tr style=\"text-align: right;\">\n",
       "      <th></th>\n",
       "      <th>weekday_weekend</th>\n",
       "      <th>bakery_sales</th>\n",
       "      <th>non_bakery_sales</th>\n",
       "      <th>beverages_sales</th>\n",
       "    </tr>\n",
       "  </thead>\n",
       "  <tbody>\n",
       "    <tr>\n",
       "      <th>0</th>\n",
       "      <td>weekday</td>\n",
       "      <td>6273</td>\n",
       "      <td>889</td>\n",
       "      <td>5334</td>\n",
       "    </tr>\n",
       "    <tr>\n",
       "      <th>1</th>\n",
       "      <td>weekend</td>\n",
       "      <td>3977</td>\n",
       "      <td>510</td>\n",
       "      <td>2929</td>\n",
       "    </tr>\n",
       "  </tbody>\n",
       "</table>\n",
       "</div>"
      ],
      "text/plain": [
       "  weekday_weekend  bakery_sales  non_bakery_sales  beverages_sales\n",
       "0         weekday          6273               889             5334\n",
       "1         weekend          3977               510             2929"
      ]
     },
     "execution_count": 75,
     "metadata": {},
     "output_type": "execute_result"
    }
   ],
   "source": [
    "df_mergeweekdays_total = pd.merge(df_mergeweekdays_totalbakerynonbakery, df_weekendweekday_salesbeverages, on = ['weekday_weekend'])\n",
    "df_mergeweekdays_total"
   ]
  },
  {
   "cell_type": "markdown",
   "metadata": {},
   "source": [
    "- Bakery category items dominate all transaction either on Weekday or Weekend"
   ]
  },
  {
   "cell_type": "markdown",
   "metadata": {},
   "source": [
    "##### Sales By Day"
   ]
  },
  {
   "cell_type": "code",
   "execution_count": 76,
   "metadata": {},
   "outputs": [],
   "source": [
    "df_day_sales = df.pivot_table(index='nameday', values='period_day', aggfunc='count').reset_index().sort_values('nameday')\n",
    "df_day_sales.rename(columns = {'period_day':'total_sales'}, inplace=True)\n",
    "# df_day_sales"
   ]
  },
  {
   "cell_type": "code",
   "execution_count": 77,
   "metadata": {},
   "outputs": [],
   "source": [
    "df_day_bakerysales = df[df['bakery_category']== 'Bakery'].pivot_table(index='nameday', values='period_day', aggfunc='count').reset_index().sort_values('nameday')\n",
    "df_day_bakerysales.rename(columns = {'period_day':'bakery_sales'}, inplace=True)\n",
    "# df_day_bakerysales"
   ]
  },
  {
   "cell_type": "code",
   "execution_count": 78,
   "metadata": {},
   "outputs": [],
   "source": [
    "df_mergeweekdays_totalbakery = pd.merge(df_day_sales, df_day_bakerysales, on = ['nameday'])\n",
    "# df_mergeweekdays_totalbakery"
   ]
  },
  {
   "cell_type": "code",
   "execution_count": 79,
   "metadata": {},
   "outputs": [],
   "source": [
    "df_day_beveragessales = df[df['item_category']== 'Beverages'].pivot_table(index='nameday', values='period_day', aggfunc='count').reset_index().sort_values('nameday')\n",
    "df_day_beveragessales.rename(columns = {'period_day':'beverages_sales'}, inplace=True)\n",
    "# df_day_beveragessales"
   ]
  },
  {
   "cell_type": "code",
   "execution_count": 80,
   "metadata": {},
   "outputs": [
    {
     "data": {
      "text/html": [
       "<div>\n",
       "<style scoped>\n",
       "    .dataframe tbody tr th:only-of-type {\n",
       "        vertical-align: middle;\n",
       "    }\n",
       "\n",
       "    .dataframe tbody tr th {\n",
       "        vertical-align: top;\n",
       "    }\n",
       "\n",
       "    .dataframe thead th {\n",
       "        text-align: right;\n",
       "    }\n",
       "</style>\n",
       "<table border=\"1\" class=\"dataframe\">\n",
       "  <thead>\n",
       "    <tr style=\"text-align: right;\">\n",
       "      <th></th>\n",
       "      <th>nameday</th>\n",
       "      <th>total_sales</th>\n",
       "      <th>bakery_sales</th>\n",
       "      <th>beverages_sales</th>\n",
       "    </tr>\n",
       "  </thead>\n",
       "  <tbody>\n",
       "    <tr>\n",
       "      <th>0</th>\n",
       "      <td>Monday</td>\n",
       "      <td>2324</td>\n",
       "      <td>1117</td>\n",
       "      <td>1003</td>\n",
       "    </tr>\n",
       "    <tr>\n",
       "      <th>1</th>\n",
       "      <td>Tuesday</td>\n",
       "      <td>2392</td>\n",
       "      <td>1117</td>\n",
       "      <td>1038</td>\n",
       "    </tr>\n",
       "    <tr>\n",
       "      <th>2</th>\n",
       "      <td>Wednesday</td>\n",
       "      <td>2321</td>\n",
       "      <td>1115</td>\n",
       "      <td>989</td>\n",
       "    </tr>\n",
       "    <tr>\n",
       "      <th>3</th>\n",
       "      <td>Thursday</td>\n",
       "      <td>2646</td>\n",
       "      <td>1325</td>\n",
       "      <td>1057</td>\n",
       "    </tr>\n",
       "    <tr>\n",
       "      <th>4</th>\n",
       "      <td>Friday</td>\n",
       "      <td>3124</td>\n",
       "      <td>1599</td>\n",
       "      <td>1247</td>\n",
       "    </tr>\n",
       "    <tr>\n",
       "      <th>5</th>\n",
       "      <td>Saturday</td>\n",
       "      <td>4605</td>\n",
       "      <td>2409</td>\n",
       "      <td>1713</td>\n",
       "    </tr>\n",
       "    <tr>\n",
       "      <th>6</th>\n",
       "      <td>Sunday</td>\n",
       "      <td>3095</td>\n",
       "      <td>1568</td>\n",
       "      <td>1216</td>\n",
       "    </tr>\n",
       "  </tbody>\n",
       "</table>\n",
       "</div>"
      ],
      "text/plain": [
       "     nameday  total_sales  bakery_sales  beverages_sales\n",
       "0     Monday         2324          1117             1003\n",
       "1    Tuesday         2392          1117             1038\n",
       "2  Wednesday         2321          1115              989\n",
       "3   Thursday         2646          1325             1057\n",
       "4     Friday         3124          1599             1247\n",
       "5   Saturday         4605          2409             1713\n",
       "6     Sunday         3095          1568             1216"
      ]
     },
     "execution_count": 80,
     "metadata": {},
     "output_type": "execute_result"
    }
   ],
   "source": [
    "df_mergeweekdaystotal_total = pd.merge(df_mergeweekdays_totalbakery, df_day_beveragessales, on = ['nameday'])\n",
    "df_mergeweekdaystotal_total"
   ]
  },
  {
   "cell_type": "markdown",
   "metadata": {},
   "source": [
    "- Bakery item category dominate in daily sales transaction"
   ]
  },
  {
   "cell_type": "markdown",
   "metadata": {},
   "source": [
    "##### Sales Saturday (Top Daily Sales)"
   ]
  },
  {
   "cell_type": "code",
   "execution_count": 81,
   "metadata": {},
   "outputs": [
    {
     "data": {
      "text/html": [
       "<div>\n",
       "<style scoped>\n",
       "    .dataframe tbody tr th:only-of-type {\n",
       "        vertical-align: middle;\n",
       "    }\n",
       "\n",
       "    .dataframe tbody tr th {\n",
       "        vertical-align: top;\n",
       "    }\n",
       "\n",
       "    .dataframe thead th {\n",
       "        text-align: right;\n",
       "    }\n",
       "</style>\n",
       "<table border=\"1\" class=\"dataframe\">\n",
       "  <thead>\n",
       "    <tr style=\"text-align: right;\">\n",
       "      <th></th>\n",
       "      <th>item_category</th>\n",
       "      <th>Sales</th>\n",
       "    </tr>\n",
       "  </thead>\n",
       "  <tbody>\n",
       "    <tr>\n",
       "      <th>1</th>\n",
       "      <td>Food</td>\n",
       "      <td>2714</td>\n",
       "    </tr>\n",
       "    <tr>\n",
       "      <th>0</th>\n",
       "      <td>Beverages</td>\n",
       "      <td>1713</td>\n",
       "    </tr>\n",
       "    <tr>\n",
       "      <th>2</th>\n",
       "      <td>Others</td>\n",
       "      <td>178</td>\n",
       "    </tr>\n",
       "  </tbody>\n",
       "</table>\n",
       "</div>"
      ],
      "text/plain": [
       "  item_category  Sales\n",
       "1          Food   2714\n",
       "0     Beverages   1713\n",
       "2        Others    178"
      ]
     },
     "execution_count": 81,
     "metadata": {},
     "output_type": "execute_result"
    }
   ],
   "source": [
    "df_saturday_sales_byitemcategory = df[df['nameday']=='Saturday'].pivot_table(index='item_category', values='period_day', aggfunc='count').reset_index().sort_values('period_day', ascending=False)\n",
    "df_saturday_sales_byitemcategory.rename(columns = {'period_day':'Sales'}, inplace=True)\n",
    "df_saturday_sales_byitemcategory.to_excel('saturday_sales_byitemcategory.xlsx', index=False)\n",
    "df_saturday_sales_byitemcategory"
   ]
  },
  {
   "cell_type": "code",
   "execution_count": 82,
   "metadata": {},
   "outputs": [
    {
     "data": {
      "text/html": [
       "<div>\n",
       "<style scoped>\n",
       "    .dataframe tbody tr th:only-of-type {\n",
       "        vertical-align: middle;\n",
       "    }\n",
       "\n",
       "    .dataframe tbody tr th {\n",
       "        vertical-align: top;\n",
       "    }\n",
       "\n",
       "    .dataframe thead th {\n",
       "        text-align: right;\n",
       "    }\n",
       "</style>\n",
       "<table border=\"1\" class=\"dataframe\">\n",
       "  <thead>\n",
       "    <tr style=\"text-align: right;\">\n",
       "      <th></th>\n",
       "      <th>Item</th>\n",
       "      <th>Sales</th>\n",
       "    </tr>\n",
       "  </thead>\n",
       "  <tbody>\n",
       "    <tr>\n",
       "      <th>3</th>\n",
       "      <td>Bread</td>\n",
       "      <td>760</td>\n",
       "    </tr>\n",
       "    <tr>\n",
       "      <th>5</th>\n",
       "      <td>Cake</td>\n",
       "      <td>246</td>\n",
       "    </tr>\n",
       "    <tr>\n",
       "      <th>15</th>\n",
       "      <td>Pastry</td>\n",
       "      <td>166</td>\n",
       "    </tr>\n",
       "    <tr>\n",
       "      <th>17</th>\n",
       "      <td>Sandwich</td>\n",
       "      <td>161</td>\n",
       "    </tr>\n",
       "    <tr>\n",
       "      <th>19</th>\n",
       "      <td>Scone</td>\n",
       "      <td>146</td>\n",
       "    </tr>\n",
       "    <tr>\n",
       "      <th>12</th>\n",
       "      <td>Medialuna</td>\n",
       "      <td>143</td>\n",
       "    </tr>\n",
       "    <tr>\n",
       "      <th>18</th>\n",
       "      <td>Scandinavian</td>\n",
       "      <td>118</td>\n",
       "    </tr>\n",
       "    <tr>\n",
       "      <th>4</th>\n",
       "      <td>Brownie</td>\n",
       "      <td>111</td>\n",
       "    </tr>\n",
       "    <tr>\n",
       "      <th>13</th>\n",
       "      <td>Muffin</td>\n",
       "      <td>93</td>\n",
       "    </tr>\n",
       "    <tr>\n",
       "      <th>7</th>\n",
       "      <td>Cookies</td>\n",
       "      <td>79</td>\n",
       "    </tr>\n",
       "    <tr>\n",
       "      <th>0</th>\n",
       "      <td>Alfajores</td>\n",
       "      <td>67</td>\n",
       "    </tr>\n",
       "    <tr>\n",
       "      <th>23</th>\n",
       "      <td>Toast</td>\n",
       "      <td>53</td>\n",
       "    </tr>\n",
       "    <tr>\n",
       "      <th>24</th>\n",
       "      <td>Truffles</td>\n",
       "      <td>46</td>\n",
       "    </tr>\n",
       "    <tr>\n",
       "      <th>22</th>\n",
       "      <td>Tiffin</td>\n",
       "      <td>35</td>\n",
       "    </tr>\n",
       "    <tr>\n",
       "      <th>9</th>\n",
       "      <td>Fudge</td>\n",
       "      <td>34</td>\n",
       "    </tr>\n",
       "    <tr>\n",
       "      <th>1</th>\n",
       "      <td>Baguette</td>\n",
       "      <td>33</td>\n",
       "    </tr>\n",
       "    <tr>\n",
       "      <th>10</th>\n",
       "      <td>Jammie Dodgers</td>\n",
       "      <td>31</td>\n",
       "    </tr>\n",
       "    <tr>\n",
       "      <th>8</th>\n",
       "      <td>Focaccia</td>\n",
       "      <td>25</td>\n",
       "    </tr>\n",
       "    <tr>\n",
       "      <th>21</th>\n",
       "      <td>The Nomad</td>\n",
       "      <td>24</td>\n",
       "    </tr>\n",
       "    <tr>\n",
       "      <th>25</th>\n",
       "      <td>Vegan mincepie</td>\n",
       "      <td>11</td>\n",
       "    </tr>\n",
       "    <tr>\n",
       "      <th>20</th>\n",
       "      <td>Tartine</td>\n",
       "      <td>9</td>\n",
       "    </tr>\n",
       "    <tr>\n",
       "      <th>2</th>\n",
       "      <td>Bakewell</td>\n",
       "      <td>8</td>\n",
       "    </tr>\n",
       "    <tr>\n",
       "      <th>11</th>\n",
       "      <td>Kids biscuit</td>\n",
       "      <td>4</td>\n",
       "    </tr>\n",
       "    <tr>\n",
       "      <th>6</th>\n",
       "      <td>Caramel bites</td>\n",
       "      <td>3</td>\n",
       "    </tr>\n",
       "    <tr>\n",
       "      <th>14</th>\n",
       "      <td>Panatone</td>\n",
       "      <td>2</td>\n",
       "    </tr>\n",
       "    <tr>\n",
       "      <th>16</th>\n",
       "      <td>Raspberry shortbread sandwich</td>\n",
       "      <td>1</td>\n",
       "    </tr>\n",
       "  </tbody>\n",
       "</table>\n",
       "</div>"
      ],
      "text/plain": [
       "                             Item  Sales\n",
       "3                           Bread    760\n",
       "5                            Cake    246\n",
       "15                         Pastry    166\n",
       "17                       Sandwich    161\n",
       "19                          Scone    146\n",
       "12                      Medialuna    143\n",
       "18                   Scandinavian    118\n",
       "4                         Brownie    111\n",
       "13                         Muffin     93\n",
       "7                         Cookies     79\n",
       "0                       Alfajores     67\n",
       "23                          Toast     53\n",
       "24                       Truffles     46\n",
       "22                         Tiffin     35\n",
       "9                           Fudge     34\n",
       "1                        Baguette     33\n",
       "10                 Jammie Dodgers     31\n",
       "8                        Focaccia     25\n",
       "21                      The Nomad     24\n",
       "25                 Vegan mincepie     11\n",
       "20                        Tartine      9\n",
       "2                        Bakewell      8\n",
       "11                   Kids biscuit      4\n",
       "6                   Caramel bites      3\n",
       "14                       Panatone      2\n",
       "16  Raspberry shortbread sandwich      1"
      ]
     },
     "execution_count": 82,
     "metadata": {},
     "output_type": "execute_result"
    }
   ],
   "source": [
    "df_saturday_sales_byfoodbakerycategory = df[(df['bakery_category'] == 'Bakery') & (df['nameday'] == 'Saturday')].pivot_table(index='Item', values='period_day', aggfunc='count').reset_index().sort_values('period_day', ascending=False)\n",
    "df_saturday_sales_byfoodbakerycategory.rename(columns = {'period_day':'Sales'}, inplace=True)\n",
    "df_saturday_sales_byfoodbakerycategory.to_excel('saturday_sales_byitembakerycategory.xlsx', index=False)\n",
    "df_saturday_sales_byfoodbakerycategory"
   ]
  },
  {
   "cell_type": "code",
   "execution_count": 83,
   "metadata": {},
   "outputs": [
    {
     "data": {
      "text/html": [
       "<div>\n",
       "<style scoped>\n",
       "    .dataframe tbody tr th:only-of-type {\n",
       "        vertical-align: middle;\n",
       "    }\n",
       "\n",
       "    .dataframe tbody tr th {\n",
       "        vertical-align: top;\n",
       "    }\n",
       "\n",
       "    .dataframe thead th {\n",
       "        text-align: right;\n",
       "    }\n",
       "</style>\n",
       "<table border=\"1\" class=\"dataframe\">\n",
       "  <thead>\n",
       "    <tr style=\"text-align: right;\">\n",
       "      <th></th>\n",
       "      <th>Item</th>\n",
       "      <th>Sales</th>\n",
       "    </tr>\n",
       "  </thead>\n",
       "  <tbody>\n",
       "    <tr>\n",
       "      <th>1</th>\n",
       "      <td>Farm House</td>\n",
       "      <td>76</td>\n",
       "    </tr>\n",
       "    <tr>\n",
       "      <th>7</th>\n",
       "      <td>Soup</td>\n",
       "      <td>50</td>\n",
       "    </tr>\n",
       "    <tr>\n",
       "      <th>8</th>\n",
       "      <td>Spanish Brunch</td>\n",
       "      <td>47</td>\n",
       "    </tr>\n",
       "    <tr>\n",
       "      <th>2</th>\n",
       "      <td>Frittata</td>\n",
       "      <td>39</td>\n",
       "    </tr>\n",
       "    <tr>\n",
       "      <th>0</th>\n",
       "      <td>Chicken Stew</td>\n",
       "      <td>22</td>\n",
       "    </tr>\n",
       "    <tr>\n",
       "      <th>6</th>\n",
       "      <td>Salad</td>\n",
       "      <td>22</td>\n",
       "    </tr>\n",
       "    <tr>\n",
       "      <th>3</th>\n",
       "      <td>Hearty &amp; Seasonal</td>\n",
       "      <td>18</td>\n",
       "    </tr>\n",
       "    <tr>\n",
       "      <th>10</th>\n",
       "      <td>Vegan Feast</td>\n",
       "      <td>10</td>\n",
       "    </tr>\n",
       "    <tr>\n",
       "      <th>9</th>\n",
       "      <td>Tacos/Fajita</td>\n",
       "      <td>8</td>\n",
       "    </tr>\n",
       "    <tr>\n",
       "      <th>4</th>\n",
       "      <td>Keeping It Local</td>\n",
       "      <td>7</td>\n",
       "    </tr>\n",
       "    <tr>\n",
       "      <th>5</th>\n",
       "      <td>Pintxos</td>\n",
       "      <td>6</td>\n",
       "    </tr>\n",
       "  </tbody>\n",
       "</table>\n",
       "</div>"
      ],
      "text/plain": [
       "                 Item  Sales\n",
       "1          Farm House     76\n",
       "7                Soup     50\n",
       "8      Spanish Brunch     47\n",
       "2            Frittata     39\n",
       "0        Chicken Stew     22\n",
       "6               Salad     22\n",
       "3   Hearty & Seasonal     18\n",
       "10        Vegan Feast     10\n",
       "9        Tacos/Fajita      8\n",
       "4    Keeping It Local      7\n",
       "5             Pintxos      6"
      ]
     },
     "execution_count": 83,
     "metadata": {},
     "output_type": "execute_result"
    }
   ],
   "source": [
    "df_saturday_sales_nonbakery = df[(df['nameday'] == 'Saturday') & (df['item_category']=='Food') & (df['bakery_category']=='Non Bakery')].pivot_table(index='Item', values='period_day', aggfunc='count').reset_index().sort_values('period_day', ascending=False)\n",
    "df_saturday_sales_nonbakery.rename(columns = {'period_day':'Sales'}, inplace=True)\n",
    "df_saturday_sales_nonbakery.to_excel('saturday_sales_nonbakery.xlsx', index=False)\n",
    "df_saturday_sales_nonbakery"
   ]
  },
  {
   "cell_type": "code",
   "execution_count": 84,
   "metadata": {},
   "outputs": [
    {
     "data": {
      "text/html": [
       "<div>\n",
       "<style scoped>\n",
       "    .dataframe tbody tr th:only-of-type {\n",
       "        vertical-align: middle;\n",
       "    }\n",
       "\n",
       "    .dataframe tbody tr th {\n",
       "        vertical-align: top;\n",
       "    }\n",
       "\n",
       "    .dataframe thead th {\n",
       "        text-align: right;\n",
       "    }\n",
       "</style>\n",
       "<table border=\"1\" class=\"dataframe\">\n",
       "  <thead>\n",
       "    <tr style=\"text-align: right;\">\n",
       "      <th></th>\n",
       "      <th>Item</th>\n",
       "      <th>Sales</th>\n",
       "    </tr>\n",
       "  </thead>\n",
       "  <tbody>\n",
       "    <tr>\n",
       "      <th>0</th>\n",
       "      <td>Coffee</td>\n",
       "      <td>1103</td>\n",
       "    </tr>\n",
       "    <tr>\n",
       "      <th>6</th>\n",
       "      <td>Tea</td>\n",
       "      <td>288</td>\n",
       "    </tr>\n",
       "    <tr>\n",
       "      <th>2</th>\n",
       "      <td>Hot chocolate</td>\n",
       "      <td>146</td>\n",
       "    </tr>\n",
       "    <tr>\n",
       "      <th>3</th>\n",
       "      <td>Juice</td>\n",
       "      <td>85</td>\n",
       "    </tr>\n",
       "    <tr>\n",
       "      <th>1</th>\n",
       "      <td>Coke</td>\n",
       "      <td>45</td>\n",
       "    </tr>\n",
       "    <tr>\n",
       "      <th>4</th>\n",
       "      <td>Mineral water</td>\n",
       "      <td>27</td>\n",
       "    </tr>\n",
       "    <tr>\n",
       "      <th>5</th>\n",
       "      <td>Smoothies</td>\n",
       "      <td>19</td>\n",
       "    </tr>\n",
       "  </tbody>\n",
       "</table>\n",
       "</div>"
      ],
      "text/plain": [
       "            Item  Sales\n",
       "0         Coffee   1103\n",
       "6            Tea    288\n",
       "2  Hot chocolate    146\n",
       "3          Juice     85\n",
       "1           Coke     45\n",
       "4  Mineral water     27\n",
       "5      Smoothies     19"
      ]
     },
     "execution_count": 84,
     "metadata": {},
     "output_type": "execute_result"
    }
   ],
   "source": [
    "df_saturday_sales_bybeveragecategory = df[(df['item_category'] == 'Beverages') & (df['nameday'] == 'Saturday')].pivot_table(index='Item', values='period_day', aggfunc='count').reset_index().sort_values('period_day', ascending=False)\n",
    "df_saturday_sales_bybeveragecategory.rename(columns = {'period_day':'Sales'}, inplace=True)\n",
    "df_saturday_sales_bybeveragecategory.to_excel('saturday_sales_bybeverages.xlsx', index=False)\n",
    "df_saturday_sales_bybeveragecategory"
   ]
  },
  {
   "cell_type": "markdown",
   "metadata": {},
   "source": [
    "- Food & Beverages category are top two item sold in Edinburgh Bakery Shop on most crowded day (Saturday)\n",
    "- Bread is the most favorite bakery food category item sold in Edinburgh Bakery shop on most crowded day (Saturday)\n",
    "- Farm house is the most favorite non-bakery food category item sold in Edinburgh Bakery Shop on most crowded day (Saturday)\n",
    "- Coffee is the most beverages cateogry item sold in Edinburgh Bakery Shop on most crowded day (Saturday)"
   ]
  },
  {
   "cell_type": "markdown",
   "metadata": {},
   "source": [
    "##### Sales Wednesday (Lowest Daily Sales)"
   ]
  },
  {
   "cell_type": "code",
   "execution_count": 85,
   "metadata": {},
   "outputs": [
    {
     "data": {
      "text/html": [
       "<div>\n",
       "<style scoped>\n",
       "    .dataframe tbody tr th:only-of-type {\n",
       "        vertical-align: middle;\n",
       "    }\n",
       "\n",
       "    .dataframe tbody tr th {\n",
       "        vertical-align: top;\n",
       "    }\n",
       "\n",
       "    .dataframe thead th {\n",
       "        text-align: right;\n",
       "    }\n",
       "</style>\n",
       "<table border=\"1\" class=\"dataframe\">\n",
       "  <thead>\n",
       "    <tr style=\"text-align: right;\">\n",
       "      <th></th>\n",
       "      <th>item_category</th>\n",
       "      <th>Sales</th>\n",
       "    </tr>\n",
       "  </thead>\n",
       "  <tbody>\n",
       "    <tr>\n",
       "      <th>1</th>\n",
       "      <td>Food</td>\n",
       "      <td>1268</td>\n",
       "    </tr>\n",
       "    <tr>\n",
       "      <th>0</th>\n",
       "      <td>Beverages</td>\n",
       "      <td>989</td>\n",
       "    </tr>\n",
       "    <tr>\n",
       "      <th>2</th>\n",
       "      <td>Others</td>\n",
       "      <td>64</td>\n",
       "    </tr>\n",
       "  </tbody>\n",
       "</table>\n",
       "</div>"
      ],
      "text/plain": [
       "  item_category  Sales\n",
       "1          Food   1268\n",
       "0     Beverages    989\n",
       "2        Others     64"
      ]
     },
     "execution_count": 85,
     "metadata": {},
     "output_type": "execute_result"
    }
   ],
   "source": [
    "df_wednesday_sales_byitemcategory = df[df['nameday']=='Wednesday'].pivot_table(index='item_category', values='period_day', aggfunc='count').reset_index().sort_values('period_day', ascending=False)\n",
    "df_wednesday_sales_byitemcategory.rename(columns = {'period_day':'Sales'}, inplace=True)\n",
    "df_wednesday_sales_byitemcategory.to_excel('wednesday_sales_byitemcategory.xlsx', index=False)\n",
    "df_wednesday_sales_byitemcategory"
   ]
  },
  {
   "cell_type": "code",
   "execution_count": 86,
   "metadata": {},
   "outputs": [
    {
     "data": {
      "text/html": [
       "<div>\n",
       "<style scoped>\n",
       "    .dataframe tbody tr th:only-of-type {\n",
       "        vertical-align: middle;\n",
       "    }\n",
       "\n",
       "    .dataframe tbody tr th {\n",
       "        vertical-align: top;\n",
       "    }\n",
       "\n",
       "    .dataframe thead th {\n",
       "        text-align: right;\n",
       "    }\n",
       "</style>\n",
       "<table border=\"1\" class=\"dataframe\">\n",
       "  <thead>\n",
       "    <tr style=\"text-align: right;\">\n",
       "      <th></th>\n",
       "      <th>Item</th>\n",
       "      <th>Sales</th>\n",
       "    </tr>\n",
       "  </thead>\n",
       "  <tbody>\n",
       "    <tr>\n",
       "      <th>3</th>\n",
       "      <td>Bread</td>\n",
       "      <td>405</td>\n",
       "    </tr>\n",
       "    <tr>\n",
       "      <th>6</th>\n",
       "      <td>Cake</td>\n",
       "      <td>123</td>\n",
       "    </tr>\n",
       "    <tr>\n",
       "      <th>14</th>\n",
       "      <td>Pastry</td>\n",
       "      <td>103</td>\n",
       "    </tr>\n",
       "    <tr>\n",
       "      <th>16</th>\n",
       "      <td>Sandwich</td>\n",
       "      <td>92</td>\n",
       "    </tr>\n",
       "    <tr>\n",
       "      <th>7</th>\n",
       "      <td>Cookies</td>\n",
       "      <td>63</td>\n",
       "    </tr>\n",
       "    <tr>\n",
       "      <th>12</th>\n",
       "      <td>Medialuna</td>\n",
       "      <td>56</td>\n",
       "    </tr>\n",
       "    <tr>\n",
       "      <th>0</th>\n",
       "      <td>Alfajores</td>\n",
       "      <td>41</td>\n",
       "    </tr>\n",
       "    <tr>\n",
       "      <th>22</th>\n",
       "      <td>Toast</td>\n",
       "      <td>35</td>\n",
       "    </tr>\n",
       "    <tr>\n",
       "      <th>5</th>\n",
       "      <td>Brownie</td>\n",
       "      <td>30</td>\n",
       "    </tr>\n",
       "    <tr>\n",
       "      <th>13</th>\n",
       "      <td>Muffin</td>\n",
       "      <td>29</td>\n",
       "    </tr>\n",
       "    <tr>\n",
       "      <th>1</th>\n",
       "      <td>Baguette</td>\n",
       "      <td>23</td>\n",
       "    </tr>\n",
       "    <tr>\n",
       "      <th>23</th>\n",
       "      <td>Truffles</td>\n",
       "      <td>20</td>\n",
       "    </tr>\n",
       "    <tr>\n",
       "      <th>17</th>\n",
       "      <td>Scandinavian</td>\n",
       "      <td>19</td>\n",
       "    </tr>\n",
       "    <tr>\n",
       "      <th>10</th>\n",
       "      <td>Fudge</td>\n",
       "      <td>16</td>\n",
       "    </tr>\n",
       "    <tr>\n",
       "      <th>21</th>\n",
       "      <td>Tiffin</td>\n",
       "      <td>13</td>\n",
       "    </tr>\n",
       "    <tr>\n",
       "      <th>18</th>\n",
       "      <td>Scone</td>\n",
       "      <td>11</td>\n",
       "    </tr>\n",
       "    <tr>\n",
       "      <th>11</th>\n",
       "      <td>Jammie Dodgers</td>\n",
       "      <td>11</td>\n",
       "    </tr>\n",
       "    <tr>\n",
       "      <th>19</th>\n",
       "      <td>Tartine</td>\n",
       "      <td>6</td>\n",
       "    </tr>\n",
       "    <tr>\n",
       "      <th>24</th>\n",
       "      <td>Vegan mincepie</td>\n",
       "      <td>5</td>\n",
       "    </tr>\n",
       "    <tr>\n",
       "      <th>9</th>\n",
       "      <td>Focaccia</td>\n",
       "      <td>4</td>\n",
       "    </tr>\n",
       "    <tr>\n",
       "      <th>20</th>\n",
       "      <td>The Nomad</td>\n",
       "      <td>3</td>\n",
       "    </tr>\n",
       "    <tr>\n",
       "      <th>4</th>\n",
       "      <td>Bread Pudding</td>\n",
       "      <td>3</td>\n",
       "    </tr>\n",
       "    <tr>\n",
       "      <th>2</th>\n",
       "      <td>Bakewell</td>\n",
       "      <td>2</td>\n",
       "    </tr>\n",
       "    <tr>\n",
       "      <th>8</th>\n",
       "      <td>Crepes</td>\n",
       "      <td>1</td>\n",
       "    </tr>\n",
       "    <tr>\n",
       "      <th>15</th>\n",
       "      <td>Raw bars</td>\n",
       "      <td>1</td>\n",
       "    </tr>\n",
       "  </tbody>\n",
       "</table>\n",
       "</div>"
      ],
      "text/plain": [
       "              Item  Sales\n",
       "3            Bread    405\n",
       "6             Cake    123\n",
       "14          Pastry    103\n",
       "16        Sandwich     92\n",
       "7          Cookies     63\n",
       "12       Medialuna     56\n",
       "0        Alfajores     41\n",
       "22           Toast     35\n",
       "5          Brownie     30\n",
       "13          Muffin     29\n",
       "1         Baguette     23\n",
       "23        Truffles     20\n",
       "17    Scandinavian     19\n",
       "10           Fudge     16\n",
       "21          Tiffin     13\n",
       "18           Scone     11\n",
       "11  Jammie Dodgers     11\n",
       "19         Tartine      6\n",
       "24  Vegan mincepie      5\n",
       "9         Focaccia      4\n",
       "20       The Nomad      3\n",
       "4    Bread Pudding      3\n",
       "2         Bakewell      2\n",
       "8           Crepes      1\n",
       "15        Raw bars      1"
      ]
     },
     "execution_count": 86,
     "metadata": {},
     "output_type": "execute_result"
    }
   ],
   "source": [
    "df_wednesday_sales_byfoodcategorybakery = df[(df['nameday']=='Wednesday') & (df['bakery_category']=='Bakery')].pivot_table(index='Item', values='period_day', aggfunc='count').reset_index().sort_values('period_day', ascending=False)\n",
    "df_wednesday_sales_byfoodcategorybakery.rename(columns = {'period_day':'Sales'}, inplace=True)\n",
    "df_wednesday_sales_byfoodcategorybakery.to_excel('wednesday_sales_byfoodcategorybakery.xlsx', index=False)\n",
    "df_wednesday_sales_byfoodcategorybakery"
   ]
  },
  {
   "cell_type": "code",
   "execution_count": 87,
   "metadata": {},
   "outputs": [
    {
     "data": {
      "text/html": [
       "<div>\n",
       "<style scoped>\n",
       "    .dataframe tbody tr th:only-of-type {\n",
       "        vertical-align: middle;\n",
       "    }\n",
       "\n",
       "    .dataframe tbody tr th {\n",
       "        vertical-align: top;\n",
       "    }\n",
       "\n",
       "    .dataframe thead th {\n",
       "        text-align: right;\n",
       "    }\n",
       "</style>\n",
       "<table border=\"1\" class=\"dataframe\">\n",
       "  <thead>\n",
       "    <tr style=\"text-align: right;\">\n",
       "      <th></th>\n",
       "      <th>Item</th>\n",
       "      <th>Sales</th>\n",
       "    </tr>\n",
       "  </thead>\n",
       "  <tbody>\n",
       "    <tr>\n",
       "      <th>5</th>\n",
       "      <td>Soup</td>\n",
       "      <td>56</td>\n",
       "    </tr>\n",
       "    <tr>\n",
       "      <th>1</th>\n",
       "      <td>Farm House</td>\n",
       "      <td>40</td>\n",
       "    </tr>\n",
       "    <tr>\n",
       "      <th>0</th>\n",
       "      <td>Chicken Stew</td>\n",
       "      <td>14</td>\n",
       "    </tr>\n",
       "    <tr>\n",
       "      <th>2</th>\n",
       "      <td>Hearty &amp; Seasonal</td>\n",
       "      <td>12</td>\n",
       "    </tr>\n",
       "    <tr>\n",
       "      <th>4</th>\n",
       "      <td>Salad</td>\n",
       "      <td>11</td>\n",
       "    </tr>\n",
       "    <tr>\n",
       "      <th>6</th>\n",
       "      <td>Spanish Brunch</td>\n",
       "      <td>10</td>\n",
       "    </tr>\n",
       "    <tr>\n",
       "      <th>3</th>\n",
       "      <td>Keeping It Local</td>\n",
       "      <td>9</td>\n",
       "    </tr>\n",
       "    <tr>\n",
       "      <th>7</th>\n",
       "      <td>Vegan Feast</td>\n",
       "      <td>1</td>\n",
       "    </tr>\n",
       "  </tbody>\n",
       "</table>\n",
       "</div>"
      ],
      "text/plain": [
       "                Item  Sales\n",
       "5               Soup     56\n",
       "1         Farm House     40\n",
       "0       Chicken Stew     14\n",
       "2  Hearty & Seasonal     12\n",
       "4              Salad     11\n",
       "6     Spanish Brunch     10\n",
       "3   Keeping It Local      9\n",
       "7        Vegan Feast      1"
      ]
     },
     "execution_count": 87,
     "metadata": {},
     "output_type": "execute_result"
    }
   ],
   "source": [
    "df_wednesday_sales_nonbakery = df[(df['nameday'] == 'Wednesday') & (df['item_category']=='Food') & (df['bakery_category']=='Non Bakery')].pivot_table(index='Item', values='period_day', aggfunc='count').reset_index().sort_values('period_day', ascending=False)\n",
    "df_wednesday_sales_nonbakery.rename(columns = {'period_day':'Sales'}, inplace=True)\n",
    "df_wednesday_sales_nonbakery.to_excel('wednesday_sales_nonbakery.xlsx', index=False)\n",
    "df_wednesday_sales_nonbakery"
   ]
  },
  {
   "cell_type": "code",
   "execution_count": 88,
   "metadata": {},
   "outputs": [
    {
     "data": {
      "text/html": [
       "<div>\n",
       "<style scoped>\n",
       "    .dataframe tbody tr th:only-of-type {\n",
       "        vertical-align: middle;\n",
       "    }\n",
       "\n",
       "    .dataframe tbody tr th {\n",
       "        vertical-align: top;\n",
       "    }\n",
       "\n",
       "    .dataframe thead th {\n",
       "        text-align: right;\n",
       "    }\n",
       "</style>\n",
       "<table border=\"1\" class=\"dataframe\">\n",
       "  <thead>\n",
       "    <tr style=\"text-align: right;\">\n",
       "      <th></th>\n",
       "      <th>Item</th>\n",
       "      <th>Sales</th>\n",
       "    </tr>\n",
       "  </thead>\n",
       "  <tbody>\n",
       "    <tr>\n",
       "      <th>0</th>\n",
       "      <td>Coffee</td>\n",
       "      <td>628</td>\n",
       "    </tr>\n",
       "    <tr>\n",
       "      <th>6</th>\n",
       "      <td>Tea</td>\n",
       "      <td>188</td>\n",
       "    </tr>\n",
       "    <tr>\n",
       "      <th>2</th>\n",
       "      <td>Hot chocolate</td>\n",
       "      <td>69</td>\n",
       "    </tr>\n",
       "    <tr>\n",
       "      <th>3</th>\n",
       "      <td>Juice</td>\n",
       "      <td>44</td>\n",
       "    </tr>\n",
       "    <tr>\n",
       "      <th>1</th>\n",
       "      <td>Coke</td>\n",
       "      <td>34</td>\n",
       "    </tr>\n",
       "    <tr>\n",
       "      <th>4</th>\n",
       "      <td>Mineral water</td>\n",
       "      <td>18</td>\n",
       "    </tr>\n",
       "    <tr>\n",
       "      <th>5</th>\n",
       "      <td>Smoothies</td>\n",
       "      <td>8</td>\n",
       "    </tr>\n",
       "  </tbody>\n",
       "</table>\n",
       "</div>"
      ],
      "text/plain": [
       "            Item  Sales\n",
       "0         Coffee    628\n",
       "6            Tea    188\n",
       "2  Hot chocolate     69\n",
       "3          Juice     44\n",
       "1           Coke     34\n",
       "4  Mineral water     18\n",
       "5      Smoothies      8"
      ]
     },
     "execution_count": 88,
     "metadata": {},
     "output_type": "execute_result"
    }
   ],
   "source": [
    "df_wednesday_sales_bybeveragecategory = df[(df['item_category'] == 'Beverages') & (df['nameday'] == 'Wednesday')].pivot_table(index='Item', values='period_day', aggfunc='count').reset_index().sort_values('period_day', ascending=False)\n",
    "df_wednesday_sales_bybeveragecategory.rename(columns = {'period_day':'Sales'}, inplace=True)\n",
    "df_wednesday_sales_bybeveragecategory.to_excel('wednesday_sales_beverages.xlsx', index=False)\n",
    "df_wednesday_sales_bybeveragecategory"
   ]
  },
  {
   "cell_type": "markdown",
   "metadata": {},
   "source": [
    "- Food & Beverages category are top two item sold in Edinburgh Bakery Shop on least crowded day (Wednesday)\n",
    "- Bread is the most favorite bakery food category item sold in Edinburgh Bakery shop on least crowded day (Wednesday)\n",
    "- Soup is the most favorite non-bakery food category item sold in Edinburgh Bakery Shop on least crowded day (Wednesday)\n",
    "- Coffee is the most beverages cateogry item sold in Edinburgh Bakery Shop on least crowded day (Wednesday)"
   ]
  },
  {
   "cell_type": "markdown",
   "metadata": {},
   "source": [
    "##### Sales By Time Period"
   ]
  },
  {
   "cell_type": "code",
   "execution_count": 90,
   "metadata": {},
   "outputs": [],
   "source": [
    "period = ['morning', 'afternoon', 'evening', 'night']\n",
    "df['period_day'] = pd.Categorical(df['period_day'], categories=period, ordered=True)"
   ]
  },
  {
   "cell_type": "code",
   "execution_count": 91,
   "metadata": {},
   "outputs": [],
   "source": [
    "df_periodtime_sales = df.pivot_table(index='period_day', values='weekday_weekend', aggfunc='count').reset_index()\n",
    "df_periodtime_sales.rename(columns = {'weekday_weekend':'total_sales'}, inplace=True)\n",
    "# df_periodtime_sales"
   ]
  },
  {
   "cell_type": "code",
   "execution_count": 92,
   "metadata": {},
   "outputs": [],
   "source": [
    "df_periodtime_salesbakery = df[(df['bakery_category']=='Bakery')].pivot_table(index='period_day', values='weekday_weekend', aggfunc='count').reset_index()\n",
    "df_periodtime_salesbakery.rename(columns = {'weekday_weekend':'bakery_sales'}, inplace=True)\n",
    "# df_periodtime_salesbakery"
   ]
  },
  {
   "cell_type": "code",
   "execution_count": 93,
   "metadata": {},
   "outputs": [],
   "source": [
    "df_mergeperiodtime_totalbakery = pd.merge(df_periodtime_sales, df_periodtime_salesbakery, on = ['period_day'])\n",
    "# df_mergeperiodtime_totalbakery"
   ]
  },
  {
   "cell_type": "code",
   "execution_count": 94,
   "metadata": {},
   "outputs": [],
   "source": [
    "df_periodtime_salesbeverages = df[(df['item_category']=='Beverages')].pivot_table(index='period_day', values='weekday_weekend', aggfunc='count').reset_index()\n",
    "df_periodtime_salesbeverages.rename(columns = {'weekday_weekend':'beverages_sales'}, inplace=True)\n",
    "# df_periodtime_salesbeverages"
   ]
  },
  {
   "cell_type": "code",
   "execution_count": 95,
   "metadata": {},
   "outputs": [
    {
     "data": {
      "text/html": [
       "<div>\n",
       "<style scoped>\n",
       "    .dataframe tbody tr th:only-of-type {\n",
       "        vertical-align: middle;\n",
       "    }\n",
       "\n",
       "    .dataframe tbody tr th {\n",
       "        vertical-align: top;\n",
       "    }\n",
       "\n",
       "    .dataframe thead th {\n",
       "        text-align: right;\n",
       "    }\n",
       "</style>\n",
       "<table border=\"1\" class=\"dataframe\">\n",
       "  <thead>\n",
       "    <tr style=\"text-align: right;\">\n",
       "      <th></th>\n",
       "      <th>period_day</th>\n",
       "      <th>total_sales</th>\n",
       "      <th>bakery_sales</th>\n",
       "      <th>beverages_sales</th>\n",
       "    </tr>\n",
       "  </thead>\n",
       "  <tbody>\n",
       "    <tr>\n",
       "      <th>0</th>\n",
       "      <td>morning</td>\n",
       "      <td>8404</td>\n",
       "      <td>4380</td>\n",
       "      <td>3454</td>\n",
       "    </tr>\n",
       "    <tr>\n",
       "      <th>1</th>\n",
       "      <td>afternoon</td>\n",
       "      <td>11569</td>\n",
       "      <td>5643</td>\n",
       "      <td>4619</td>\n",
       "    </tr>\n",
       "    <tr>\n",
       "      <th>2</th>\n",
       "      <td>evening</td>\n",
       "      <td>520</td>\n",
       "      <td>226</td>\n",
       "      <td>186</td>\n",
       "    </tr>\n",
       "    <tr>\n",
       "      <th>3</th>\n",
       "      <td>night</td>\n",
       "      <td>14</td>\n",
       "      <td>1</td>\n",
       "      <td>4</td>\n",
       "    </tr>\n",
       "  </tbody>\n",
       "</table>\n",
       "</div>"
      ],
      "text/plain": [
       "  period_day  total_sales  bakery_sales  beverages_sales\n",
       "0    morning         8404          4380             3454\n",
       "1  afternoon        11569          5643             4619\n",
       "2    evening          520           226              186\n",
       "3      night           14             1                4"
      ]
     },
     "execution_count": 95,
     "metadata": {},
     "output_type": "execute_result"
    }
   ],
   "source": [
    "df_mergeperiodtime_totalbakerybeverages = pd.merge(df_mergeperiodtime_totalbakery, df_periodtime_salesbeverages, on = ['period_day'])\n",
    "df_mergeperiodtime_totalbakerybeverages"
   ]
  },
  {
   "cell_type": "markdown",
   "metadata": {},
   "source": [
    "- Bakery category dominates sales on Morning, Afternoon, and Evening Period\n",
    "- People tend to buy more beverages on Night Period"
   ]
  },
  {
   "cell_type": "markdown",
   "metadata": {},
   "source": [
    "# DATA INSIGHT"
   ]
  },
  {
   "cell_type": "markdown",
   "metadata": {},
   "source": [
    "- Sales for 2 months in 2016 (November, December) are larger than Sales for 2 Months in 2017 (January, February)\n",
    "- Most transaction occurred on November 2016 \n",
    "- Least transaction occored on December 2016\n",
    "- Most transaction occurred on the beginning of the month\n",
    "- Most Transaction occurred on Saturday \n",
    "- Least Transaction occurred on Wednesday\n",
    "- Most Tranasaction Occurred on Afternoon Period\n",
    "- Least Transaction Occured on Evening & Night Period\n",
    "- From research https://www.timeanddate.com/weather/uk/edinburgh/historic?month=4&year=2017 : the weather during this transaction period was on winter --> People tend to stay at home on evening and night\n",
    "- Food is the top category item sold for all transaction in Edinburgh Bakeryshop\n",
    "- Beverages is the second top category item sold for all transaction in Edinburgh Bakeryshop\n",
    "- Bakery category dominates food category sales in Edinburgh Bakery Store\n",
    "- Coffee is the overall top item sold in Edinburgh Bakery Shop\n",
    "- In Beverages Category, Coffee also is the top item sold in Edinburgh Bakery\n",
    "- Bread is the top item sold in Edinburgh Bakeryshop (in all food category)\n",
    "- In Bakery Category, Bread also is the top item sold in Edinburgh Bakery Shop\n",
    "- Bakery is the top category item sold in Edinburgh Bakery Shop every month\n",
    "- Beverages is the second top category item sold in Edinburgh Bakery Shop every month\n",
    "- Food & Beverages category are top two item sold in Edinburgh Bakery Shop on most crowded month (November 2016)\n",
    "- Bread is the most favorite bakery food category item sold in Edinburgh Bakery shop on most crowded month (November 2016)\n",
    "- Farm house is the most favorite non-bakery food category item sold in Edinburgh Bakery Shop on most crowded month (November 2016)\n",
    "- Coffee is the most beverages cateogry item sold in Edinburgh Bakery Shop on most crowded month (November 2016)\n",
    "- Food & Beverages category are top two item sold in Edinburgh Bakery Shop on most crowded month (December 2016)\n",
    "- Bread is the most favorite bakery food category item sold in Edinburgh Bakery shop on most crowded month (December 2016)\n",
    "- Farm house is the most favorite non-bakery food category item sold in Edinburgh Bakery Shop on most crowded month (December 2016)\n",
    "- Coffee is the most beverages cateogry item sold in Edinburgh Bakery Shop on most crowded month (December 2016)\n",
    "- Bakery category items dominate all transaction either on Weekday or Weekend\n",
    "- Bakery category items dominate in daily sales transaction\n",
    "- Food & Beverages category are top two item sold in Edinburgh Bakery Shop on most crowded day (Saturday)\n",
    "- Bread is the most favorite bakery food category item sold in Edinburgh Bakery shop on most crowded day (Saturday)\n",
    "- Farm house is the most favorite non-bakery food category item sold in Edinburgh Bakery Shop on most crowded day (Saturday)\n",
    "- Coffee is the most beverages cateogry item sold in Edinburgh Bakery Shop on most crowded day (Saturday)\n",
    "- Food & Beverages category are top two item sold in Edinburgh Bakery Shop on least crowded day (Wednesday)\n",
    "- Bread is the most favorite bakery food category item sold in Edinburgh Bakery shop on least crowded day (Wednesday)\n",
    "- Soup is the most favorite non-bakery food category item sold in Edinburgh Bakery Shop on least crowded day (Wednesday)\n",
    "- Coffee is the most beverages cateogry item sold in Edinburgh Bakery Shop on least crowded day (Wednesday)\n",
    "- Bakery category dominates sales on Morning, Afternoon, and Evening Period\n",
    "- People tend to buy more beverages on Night Period"
   ]
  },
  {
   "cell_type": "markdown",
   "metadata": {},
   "source": [
    "# SUMMARY & RECOMMENDATION"
   ]
  },
  {
   "cell_type": "markdown",
   "metadata": {},
   "source": [
    "1. From all transaction breakdown (By Year, By Month, By Weekdays-Weekend, By Day, and By Period Time):\n",
    "- Coffee had the most transaction at Edinburgh Bakery Shop. \n",
    "- The Nomad, Vegan mincepie, Focaccia, Bakewell, Tartine, Kids Biscuit, Empanadas, Crepes, Panatone, Bread Pudding, Caramel Bites, Raspberry shortbread sandwich, and Raw bars had the least transaction item at Edinburgh Bakery Shop. \n",
    "2. Saturday was the most crowded transaction and Wednesday was the least crowded transaction on Edinburgh Bakery Shop\n",
    "\n",
    "\n",
    "Suggestion : \n",
    "- To conduct package discount promotion every Saturday and Wednesday for one month period which combine Coffee + least popular Bakery Item  \n",
    "- Reduce everyday stock (except on promotion day) for least popular Bakery Item to avoid losses\n",
    "- Created Membership Account and Card to assess Customer Loyalty Point (Future Works)"
   ]
  },
  {
   "cell_type": "markdown",
   "metadata": {},
   "source": [
    "# BUSINESS IMPACT SIMULATION"
   ]
  },
  {
   "cell_type": "code",
   "execution_count": 100,
   "metadata": {},
   "outputs": [
    {
     "data": {
      "text/html": [
       "<div>\n",
       "<style scoped>\n",
       "    .dataframe tbody tr th:only-of-type {\n",
       "        vertical-align: middle;\n",
       "    }\n",
       "\n",
       "    .dataframe tbody tr th {\n",
       "        vertical-align: top;\n",
       "    }\n",
       "\n",
       "    .dataframe thead th {\n",
       "        text-align: right;\n",
       "    }\n",
       "</style>\n",
       "<table border=\"1\" class=\"dataframe\">\n",
       "  <thead>\n",
       "    <tr style=\"text-align: right;\">\n",
       "      <th></th>\n",
       "      <th>Item</th>\n",
       "      <th>Sales</th>\n",
       "    </tr>\n",
       "  </thead>\n",
       "  <tbody>\n",
       "    <tr>\n",
       "      <th>0</th>\n",
       "      <td>Coffee</td>\n",
       "      <td>175</td>\n",
       "    </tr>\n",
       "    <tr>\n",
       "      <th>6</th>\n",
       "      <td>Tea</td>\n",
       "      <td>58</td>\n",
       "    </tr>\n",
       "    <tr>\n",
       "      <th>2</th>\n",
       "      <td>Hot chocolate</td>\n",
       "      <td>37</td>\n",
       "    </tr>\n",
       "    <tr>\n",
       "      <th>3</th>\n",
       "      <td>Juice</td>\n",
       "      <td>16</td>\n",
       "    </tr>\n",
       "    <tr>\n",
       "      <th>1</th>\n",
       "      <td>Coke</td>\n",
       "      <td>10</td>\n",
       "    </tr>\n",
       "    <tr>\n",
       "      <th>4</th>\n",
       "      <td>Mineral water</td>\n",
       "      <td>4</td>\n",
       "    </tr>\n",
       "    <tr>\n",
       "      <th>5</th>\n",
       "      <td>Smoothies</td>\n",
       "      <td>1</td>\n",
       "    </tr>\n",
       "  </tbody>\n",
       "</table>\n",
       "</div>"
      ],
      "text/plain": [
       "            Item  Sales\n",
       "0         Coffee    175\n",
       "6            Tea     58\n",
       "2  Hot chocolate     37\n",
       "3          Juice     16\n",
       "1           Coke     10\n",
       "4  Mineral water      4\n",
       "5      Smoothies      1"
      ]
     },
     "execution_count": 100,
     "metadata": {},
     "output_type": "execute_result"
    }
   ],
   "source": [
    "df_saturday_sales_bybeveragecategory = df[(df['item_category'] == 'Beverages') & (df['nameday'] == 'Saturday') & (df['yearmonth']=='2016-12')].pivot_table(index='Item', values='period_day', aggfunc='count').reset_index().sort_values('period_day', ascending=False)\n",
    "df_saturday_sales_bybeveragecategory.rename(columns = {'period_day':'Sales'}, inplace=True)\n",
    "df_saturday_sales_bybeveragecategory.to_excel('saturday_sales__december_beverages.xlsx', index=False)\n",
    "df_saturday_sales_bybeveragecategory"
   ]
  },
  {
   "cell_type": "code",
   "execution_count": 101,
   "metadata": {},
   "outputs": [
    {
     "data": {
      "text/html": [
       "<div>\n",
       "<style scoped>\n",
       "    .dataframe tbody tr th:only-of-type {\n",
       "        vertical-align: middle;\n",
       "    }\n",
       "\n",
       "    .dataframe tbody tr th {\n",
       "        vertical-align: top;\n",
       "    }\n",
       "\n",
       "    .dataframe thead th {\n",
       "        text-align: right;\n",
       "    }\n",
       "</style>\n",
       "<table border=\"1\" class=\"dataframe\">\n",
       "  <thead>\n",
       "    <tr style=\"text-align: right;\">\n",
       "      <th></th>\n",
       "      <th>Item</th>\n",
       "      <th>Sales</th>\n",
       "    </tr>\n",
       "  </thead>\n",
       "  <tbody>\n",
       "    <tr>\n",
       "      <th>0</th>\n",
       "      <td>Coffee</td>\n",
       "      <td>128</td>\n",
       "    </tr>\n",
       "    <tr>\n",
       "      <th>6</th>\n",
       "      <td>Tea</td>\n",
       "      <td>29</td>\n",
       "    </tr>\n",
       "    <tr>\n",
       "      <th>2</th>\n",
       "      <td>Hot chocolate</td>\n",
       "      <td>18</td>\n",
       "    </tr>\n",
       "    <tr>\n",
       "      <th>1</th>\n",
       "      <td>Coke</td>\n",
       "      <td>8</td>\n",
       "    </tr>\n",
       "    <tr>\n",
       "      <th>3</th>\n",
       "      <td>Juice</td>\n",
       "      <td>8</td>\n",
       "    </tr>\n",
       "    <tr>\n",
       "      <th>4</th>\n",
       "      <td>Mineral water</td>\n",
       "      <td>2</td>\n",
       "    </tr>\n",
       "    <tr>\n",
       "      <th>5</th>\n",
       "      <td>Smoothies</td>\n",
       "      <td>1</td>\n",
       "    </tr>\n",
       "  </tbody>\n",
       "</table>\n",
       "</div>"
      ],
      "text/plain": [
       "            Item  Sales\n",
       "0         Coffee    128\n",
       "6            Tea     29\n",
       "2  Hot chocolate     18\n",
       "1           Coke      8\n",
       "3          Juice      8\n",
       "4  Mineral water      2\n",
       "5      Smoothies      1"
      ]
     },
     "execution_count": 101,
     "metadata": {},
     "output_type": "execute_result"
    }
   ],
   "source": [
    "df_saturday_sales_bybeveragecategory = df[(df['item_category'] == 'Beverages') & (df['nameday'] == 'Wednesday') & (df['yearmonth']=='2016-12')].pivot_table(index='Item', values='period_day', aggfunc='count').reset_index().sort_values('period_day', ascending=False)\n",
    "df_saturday_sales_bybeveragecategory.rename(columns = {'period_day':'Sales'}, inplace=True)\n",
    "df_saturday_sales_bybeveragecategory.to_excel('wednesday_sales__december_beverages.xlsx', index=False)\n",
    "df_saturday_sales_bybeveragecategory"
   ]
  },
  {
   "cell_type": "markdown",
   "metadata": {},
   "source": [
    "Additional 303 Bakery Sales --> Total Sales 3651 \n",
    "\n",
    "#### INCREASE SALES : 9,1%!"
   ]
  }
 ],
 "metadata": {
  "kernelspec": {
   "display_name": "Python 3",
   "language": "python",
   "name": "python3"
  },
  "language_info": {
   "codemirror_mode": {
    "name": "ipython",
    "version": 3
   },
   "file_extension": ".py",
   "mimetype": "text/x-python",
   "name": "python",
   "nbconvert_exporter": "python",
   "pygments_lexer": "ipython3",
   "version": "3.8.5"
  }
 },
 "nbformat": 4,
 "nbformat_minor": 4
}
